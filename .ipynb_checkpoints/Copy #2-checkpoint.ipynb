{
 "cells": [
  {
   "cell_type": "code",
   "execution_count": 88,
   "id": "111a65b4",
   "metadata": {},
   "outputs": [],
   "source": [
    "import pandas as pd\n",
    "df = pd.read_csv('ww2_dataset2.csv')\n",
    "import numpy as np"
   ]
  },
  {
   "cell_type": "code",
   "execution_count": 2,
   "id": "2ff79e25",
   "metadata": {},
   "outputs": [
    {
     "data": {
      "text/html": [
       "<div>\n",
       "<style scoped>\n",
       "    .dataframe tbody tr th:only-of-type {\n",
       "        vertical-align: middle;\n",
       "    }\n",
       "\n",
       "    .dataframe tbody tr th {\n",
       "        vertical-align: top;\n",
       "    }\n",
       "\n",
       "    .dataframe thead th {\n",
       "        text-align: right;\n",
       "    }\n",
       "</style>\n",
       "<table border=\"1\" class=\"dataframe\">\n",
       "  <thead>\n",
       "    <tr style=\"text-align: right;\">\n",
       "      <th></th>\n",
       "      <th>Country</th>\n",
       "      <th>Total pop 19391939</th>\n",
       "      <th>Militarydeaths</th>\n",
       "      <th>Civilian deaths</th>\n",
       "      <th>Totaldeaths</th>\n",
       "      <th>% of Population</th>\n",
       "      <th>Militarywounded</th>\n",
       "    </tr>\n",
       "  </thead>\n",
       "  <tbody>\n",
       "    <tr>\n",
       "      <th>0</th>\n",
       "      <td>Australia</td>\n",
       "      <td>6,968,000</td>\n",
       "      <td>39,700</td>\n",
       "      <td>700</td>\n",
       "      <td>40400</td>\n",
       "      <td>0.58</td>\n",
       "      <td>39,803</td>\n",
       "    </tr>\n",
       "    <tr>\n",
       "      <th>1</th>\n",
       "      <td>Belgium</td>\n",
       "      <td>8,387,000</td>\n",
       "      <td>12,000</td>\n",
       "      <td>76,000</td>\n",
       "      <td>88000</td>\n",
       "      <td>1.05</td>\n",
       "      <td>55,513</td>\n",
       "    </tr>\n",
       "    <tr>\n",
       "      <th>2</th>\n",
       "      <td>Bulgaria</td>\n",
       "      <td>6,458,000</td>\n",
       "      <td>18,500</td>\n",
       "      <td>3,000</td>\n",
       "      <td>21500</td>\n",
       "      <td>0.33</td>\n",
       "      <td>21,878</td>\n",
       "    </tr>\n",
       "    <tr>\n",
       "      <th>3</th>\n",
       "      <td>Canada</td>\n",
       "      <td>11,267,000</td>\n",
       "      <td>42,000</td>\n",
       "      <td>1,600</td>\n",
       "      <td>43600</td>\n",
       "      <td>0.38</td>\n",
       "      <td>53,174</td>\n",
       "    </tr>\n",
       "    <tr>\n",
       "      <th>4</th>\n",
       "      <td>France</td>\n",
       "      <td>41,680,000</td>\n",
       "      <td>210,000</td>\n",
       "      <td>390,000</td>\n",
       "      <td>600000</td>\n",
       "      <td>1.44</td>\n",
       "      <td>390,000</td>\n",
       "    </tr>\n",
       "  </tbody>\n",
       "</table>\n",
       "</div>"
      ],
      "text/plain": [
       "     Country Total pop 19391939 Militarydeaths Civilian deaths Totaldeaths  \\\n",
       "0  Australia          6,968,000         39,700             700       40400   \n",
       "1    Belgium          8,387,000         12,000          76,000       88000   \n",
       "2   Bulgaria          6,458,000         18,500           3,000       21500   \n",
       "3     Canada         11,267,000         42,000           1,600       43600   \n",
       "4     France         41,680,000        210,000         390,000      600000   \n",
       "\n",
       "   % of Population Militarywounded  \n",
       "0             0.58          39,803  \n",
       "1             1.05          55,513  \n",
       "2             0.33          21,878  \n",
       "3             0.38          53,174  \n",
       "4             1.44         390,000  "
      ]
     },
     "execution_count": 2,
     "metadata": {},
     "output_type": "execute_result"
    }
   ],
   "source": [
    "######## WW2 csv read and data cleanse #########\n",
    "# read csv file and assign to variable\n",
    "df.head()"
   ]
  },
  {
   "cell_type": "code",
   "execution_count": 3,
   "id": "2dc3bcc0",
   "metadata": {},
   "outputs": [],
   "source": [
    "WW2 = df"
   ]
  },
  {
   "cell_type": "code",
   "execution_count": 4,
   "id": "caa64a96",
   "metadata": {},
   "outputs": [
    {
     "name": "stdout",
     "output_type": "stream",
     "text": [
      "           Country Total pop 19391939 Militarydeaths Civilian deaths  \\\n",
      "0        Australia          6,968,000         39,700             700   \n",
      "1          Belgium          8,387,000         12,000          76,000   \n",
      "2         Bulgaria          6,458,000         18,500           3,000   \n",
      "3           Canada         11,267,000         42,000           1,600   \n",
      "4           France         41,680,000        210,000         390,000   \n",
      "5          Germany         69,300,000      5,318,000       3,000,000   \n",
      "6           Greece          7,222,000         35,100         171,800   \n",
      "7          Hungary          9,129,000        200,000         664,000   \n",
      "8            India        377,800,000         87,000             NaN   \n",
      "9            Italy         44,394,000        341,000         153,200   \n",
      "10           Japan         71,380,000      2,300,000         800,000   \n",
      "11    Newfoundland            320,000          1,100             100   \n",
      "12     New Zealand          1,629,000         11,700             NaN   \n",
      "13         Romania         15,970,000        300,000         200,000   \n",
      "14    South Africa         10,160,000         11,900             NaN   \n",
      "15    Soviet Union        188,793,000     11,400,000      10,000,000   \n",
      "16          Sweden          6,341,000            100           2,000   \n",
      "17     Switzerland          4,210,000            NaN             100   \n",
      "18        Thailand         15,023,000          5,600           2,000   \n",
      "19          Turkey         17,370,000            200             NaN   \n",
      "20  United Kingdom         47,760,000        383,700          67,200   \n",
      "21   United States        131,028,000        407,300          12,100   \n",
      "\n",
      "   Totaldeaths  % of Population Militarywounded  \n",
      "0        40400            0.580          39,803  \n",
      "1        88000            1.050          55,513  \n",
      "2        21500            0.330          21,878  \n",
      "3        43600            0.380          53,174  \n",
      "4       600000            1.440         390,000  \n",
      "5    7,400,000            1.000       7,300,000  \n",
      "6      507,000            9.095          47,290  \n",
      "7      864,000            7.270          89,313  \n",
      "8    3,087,000            0.580          64,354  \n",
      "9      492,400            1.135         320,000  \n",
      "10   3,100,000            3.920         326,000  \n",
      "11        1200            0.300             NaN  \n",
      "12       11700            0.720          19,314  \n",
      "13     500,000            3.130         332,769  \n",
      "14       11900            0.120          14,363  \n",
      "15  27,000,000            1.150             NaN  \n",
      "16        2100            0.030             NaN  \n",
      "17         100            0.000             NaN  \n",
      "18        7600            0.050             NaN  \n",
      "19         200            0.000             NaN  \n",
      "20      450900            0.940         376,239  \n",
      "21      419400            0.320         671,801  \n"
     ]
    }
   ],
   "source": [
    "print(WW2)"
   ]
  },
  {
   "cell_type": "code",
   "execution_count": 5,
   "id": "86b871e9",
   "metadata": {},
   "outputs": [
    {
     "data": {
      "text/plain": [
       "0          Australia\n",
       "1            Belgium\n",
       "2           Bulgaria\n",
       "3             Canada\n",
       "4             France\n",
       "5            Germany\n",
       "6             Greece\n",
       "7            Hungary\n",
       "8              India\n",
       "9              Italy\n",
       "10             Japan\n",
       "11      Newfoundland\n",
       "12       New Zealand\n",
       "13           Romania\n",
       "14      South Africa\n",
       "15      Soviet Union\n",
       "16            Sweden\n",
       "17       Switzerland\n",
       "18          Thailand\n",
       "19            Turkey\n",
       "20    United Kingdom\n",
       "21     United States\n",
       "Name: Country, dtype: object"
      ]
     },
     "execution_count": 5,
     "metadata": {},
     "output_type": "execute_result"
    }
   ],
   "source": [
    "df['Country']"
   ]
  },
  {
   "cell_type": "code",
   "execution_count": 6,
   "id": "648eb8fb",
   "metadata": {},
   "outputs": [],
   "source": [
    "# getting rid of commas in strings of numbers \n",
    "WW2 = WW2.replace(',','', regex=True)"
   ]
  },
  {
   "cell_type": "code",
   "execution_count": 7,
   "id": "d01fc926",
   "metadata": {},
   "outputs": [],
   "source": [
    "# Getting rid of x countries \n",
    "WW2 = WW2.drop(labels=[0,8,14,6,7,13,1,3,2,11,12,18,16,19,17], axis=0)"
   ]
  },
  {
   "cell_type": "code",
   "execution_count": 8,
   "id": "6ac51b91",
   "metadata": {},
   "outputs": [
    {
     "name": "stdout",
     "output_type": "stream",
     "text": [
      "           Country Total pop 19391939 Militarydeaths Civilian deaths  \\\n",
      "4           France           41680000         210000          390000   \n",
      "5          Germany           69300000        5318000         3000000   \n",
      "9            Italy           44394000         341000          153200   \n",
      "10           Japan           71380000        2300000          800000   \n",
      "15    Soviet Union          188793000       11400000        10000000   \n",
      "20  United Kingdom           47760000         383700           67200   \n",
      "21   United States          131028000         407300           12100   \n",
      "\n",
      "   Totaldeaths  % of Population Militarywounded  \n",
      "4       600000            1.440          390000  \n",
      "5      7400000            1.000         7300000  \n",
      "9       492400            1.135          320000  \n",
      "10     3100000            3.920          326000  \n",
      "15    27000000            1.150             NaN  \n",
      "20      450900            0.940          376239  \n",
      "21      419400            0.320          671801  \n"
     ]
    }
   ],
   "source": [
    "print(WW2)"
   ]
  },
  {
   "cell_type": "code",
   "execution_count": 9,
   "id": "09160146",
   "metadata": {},
   "outputs": [],
   "source": [
    "# Dropping unwanted column \n",
    "WW2 = WW2.drop(['Militarywounded'], axis=1)"
   ]
  },
  {
   "cell_type": "code",
   "execution_count": 10,
   "id": "3908bfc2",
   "metadata": {},
   "outputs": [],
   "source": [
    "# sorting on Population column (ascending)\n",
    "WW2 = WW2.sort_values(by='% of Population',ascending=False)"
   ]
  },
  {
   "cell_type": "code",
   "execution_count": 11,
   "id": "12d27c5b",
   "metadata": {},
   "outputs": [
    {
     "data": {
      "text/html": [
       "<div>\n",
       "<style scoped>\n",
       "    .dataframe tbody tr th:only-of-type {\n",
       "        vertical-align: middle;\n",
       "    }\n",
       "\n",
       "    .dataframe tbody tr th {\n",
       "        vertical-align: top;\n",
       "    }\n",
       "\n",
       "    .dataframe thead th {\n",
       "        text-align: right;\n",
       "    }\n",
       "</style>\n",
       "<table border=\"1\" class=\"dataframe\">\n",
       "  <thead>\n",
       "    <tr style=\"text-align: right;\">\n",
       "      <th></th>\n",
       "      <th>Country</th>\n",
       "      <th>Total pop 19391939</th>\n",
       "      <th>Militarydeaths</th>\n",
       "      <th>Civilian deaths</th>\n",
       "      <th>Totaldeaths</th>\n",
       "      <th>% of Population</th>\n",
       "    </tr>\n",
       "  </thead>\n",
       "  <tbody>\n",
       "    <tr>\n",
       "      <th>10</th>\n",
       "      <td>Japan</td>\n",
       "      <td>71380000</td>\n",
       "      <td>2300000</td>\n",
       "      <td>800000</td>\n",
       "      <td>3100000</td>\n",
       "      <td>3.920</td>\n",
       "    </tr>\n",
       "    <tr>\n",
       "      <th>4</th>\n",
       "      <td>France</td>\n",
       "      <td>41680000</td>\n",
       "      <td>210000</td>\n",
       "      <td>390000</td>\n",
       "      <td>600000</td>\n",
       "      <td>1.440</td>\n",
       "    </tr>\n",
       "    <tr>\n",
       "      <th>15</th>\n",
       "      <td>Soviet Union</td>\n",
       "      <td>188793000</td>\n",
       "      <td>11400000</td>\n",
       "      <td>10000000</td>\n",
       "      <td>27000000</td>\n",
       "      <td>1.150</td>\n",
       "    </tr>\n",
       "    <tr>\n",
       "      <th>9</th>\n",
       "      <td>Italy</td>\n",
       "      <td>44394000</td>\n",
       "      <td>341000</td>\n",
       "      <td>153200</td>\n",
       "      <td>492400</td>\n",
       "      <td>1.135</td>\n",
       "    </tr>\n",
       "    <tr>\n",
       "      <th>5</th>\n",
       "      <td>Germany</td>\n",
       "      <td>69300000</td>\n",
       "      <td>5318000</td>\n",
       "      <td>3000000</td>\n",
       "      <td>7400000</td>\n",
       "      <td>1.000</td>\n",
       "    </tr>\n",
       "  </tbody>\n",
       "</table>\n",
       "</div>"
      ],
      "text/plain": [
       "         Country Total pop 19391939 Militarydeaths Civilian deaths  \\\n",
       "10         Japan           71380000        2300000          800000   \n",
       "4         France           41680000         210000          390000   \n",
       "15  Soviet Union          188793000       11400000        10000000   \n",
       "9          Italy           44394000         341000          153200   \n",
       "5        Germany           69300000        5318000         3000000   \n",
       "\n",
       "   Totaldeaths  % of Population  \n",
       "10     3100000            3.920  \n",
       "4       600000            1.440  \n",
       "15    27000000            1.150  \n",
       "9       492400            1.135  \n",
       "5      7400000            1.000  "
      ]
     },
     "execution_count": 11,
     "metadata": {},
     "output_type": "execute_result"
    }
   ],
   "source": [
    "# shows start of file \n",
    "WW2.head()"
   ]
  },
  {
   "cell_type": "code",
   "execution_count": 12,
   "id": "95594105",
   "metadata": {},
   "outputs": [
    {
     "name": "stdout",
     "output_type": "stream",
     "text": [
      "           Country Total pop 19391939 Militarydeaths Civilian deaths  \\\n",
      "10           Japan           71380000        2300000          800000   \n",
      "4           France           41680000         210000          390000   \n",
      "15    Soviet Union          188793000       11400000        10000000   \n",
      "9            Italy           44394000         341000          153200   \n",
      "5          Germany           69300000        5318000         3000000   \n",
      "20  United Kingdom           47760000         383700           67200   \n",
      "21   United States          131028000         407300           12100   \n",
      "\n",
      "   Totaldeaths  % of Population  \n",
      "10     3100000            3.920  \n",
      "4       600000            1.440  \n",
      "15    27000000            1.150  \n",
      "9       492400            1.135  \n",
      "5      7400000            1.000  \n",
      "20      450900            0.940  \n",
      "21      419400            0.320  \n"
     ]
    }
   ],
   "source": [
    "print(WW2)"
   ]
  },
  {
   "cell_type": "code",
   "execution_count": 13,
   "id": "a47e0ce6",
   "metadata": {},
   "outputs": [],
   "source": [
    "# Converting col to integers \n",
    "WW2 = WW2.astype({'Militarydeaths':'int'})"
   ]
  },
  {
   "cell_type": "code",
   "execution_count": 14,
   "id": "6082137e",
   "metadata": {},
   "outputs": [],
   "source": [
    "# Converting col to integers \n",
    "WW2 = WW2.astype({'Total pop 19391939':'int'})"
   ]
  },
  {
   "cell_type": "code",
   "execution_count": 15,
   "id": "1a2108df",
   "metadata": {},
   "outputs": [
    {
     "name": "stdout",
     "output_type": "stream",
     "text": [
      "Country                object\n",
      "Total pop 19391939      int32\n",
      "Militarydeaths          int32\n",
      "Civilian deaths        object\n",
      "Totaldeaths            object\n",
      "% of Population       float64\n",
      "dtype: object\n"
     ]
    }
   ],
   "source": [
    "# check types\n",
    "print(WW2.dtypes)"
   ]
  },
  {
   "cell_type": "code",
   "execution_count": 16,
   "id": "df767f64",
   "metadata": {},
   "outputs": [
    {
     "data": {
      "text/html": [
       "<div>\n",
       "<style scoped>\n",
       "    .dataframe tbody tr th:only-of-type {\n",
       "        vertical-align: middle;\n",
       "    }\n",
       "\n",
       "    .dataframe tbody tr th {\n",
       "        vertical-align: top;\n",
       "    }\n",
       "\n",
       "    .dataframe thead th {\n",
       "        text-align: right;\n",
       "    }\n",
       "</style>\n",
       "<table border=\"1\" class=\"dataframe\">\n",
       "  <thead>\n",
       "    <tr style=\"text-align: right;\">\n",
       "      <th></th>\n",
       "      <th>Country</th>\n",
       "      <th>Total pop 19391939</th>\n",
       "      <th>Militarydeaths</th>\n",
       "      <th>Civilian deaths</th>\n",
       "      <th>Totaldeaths</th>\n",
       "      <th>% of Population</th>\n",
       "    </tr>\n",
       "  </thead>\n",
       "  <tbody>\n",
       "    <tr>\n",
       "      <th>10</th>\n",
       "      <td>Japan</td>\n",
       "      <td>71380000</td>\n",
       "      <td>2300000</td>\n",
       "      <td>800000</td>\n",
       "      <td>3100000</td>\n",
       "      <td>3.920</td>\n",
       "    </tr>\n",
       "    <tr>\n",
       "      <th>4</th>\n",
       "      <td>France</td>\n",
       "      <td>41680000</td>\n",
       "      <td>210000</td>\n",
       "      <td>390000</td>\n",
       "      <td>600000</td>\n",
       "      <td>1.440</td>\n",
       "    </tr>\n",
       "    <tr>\n",
       "      <th>15</th>\n",
       "      <td>Soviet Union</td>\n",
       "      <td>188793000</td>\n",
       "      <td>11400000</td>\n",
       "      <td>10000000</td>\n",
       "      <td>27000000</td>\n",
       "      <td>1.150</td>\n",
       "    </tr>\n",
       "    <tr>\n",
       "      <th>9</th>\n",
       "      <td>Italy</td>\n",
       "      <td>44394000</td>\n",
       "      <td>341000</td>\n",
       "      <td>153200</td>\n",
       "      <td>492400</td>\n",
       "      <td>1.135</td>\n",
       "    </tr>\n",
       "    <tr>\n",
       "      <th>5</th>\n",
       "      <td>Germany</td>\n",
       "      <td>69300000</td>\n",
       "      <td>5318000</td>\n",
       "      <td>3000000</td>\n",
       "      <td>7400000</td>\n",
       "      <td>1.000</td>\n",
       "    </tr>\n",
       "    <tr>\n",
       "      <th>20</th>\n",
       "      <td>United Kingdom</td>\n",
       "      <td>47760000</td>\n",
       "      <td>383700</td>\n",
       "      <td>67200</td>\n",
       "      <td>450900</td>\n",
       "      <td>0.940</td>\n",
       "    </tr>\n",
       "    <tr>\n",
       "      <th>21</th>\n",
       "      <td>United States</td>\n",
       "      <td>131028000</td>\n",
       "      <td>407300</td>\n",
       "      <td>12100</td>\n",
       "      <td>419400</td>\n",
       "      <td>0.320</td>\n",
       "    </tr>\n",
       "  </tbody>\n",
       "</table>\n",
       "</div>"
      ],
      "text/plain": [
       "           Country  Total pop 19391939  Militarydeaths Civilian deaths  \\\n",
       "10           Japan            71380000         2300000          800000   \n",
       "4           France            41680000          210000          390000   \n",
       "15    Soviet Union           188793000        11400000        10000000   \n",
       "9            Italy            44394000          341000          153200   \n",
       "5          Germany            69300000         5318000         3000000   \n",
       "20  United Kingdom            47760000          383700           67200   \n",
       "21   United States           131028000          407300           12100   \n",
       "\n",
       "   Totaldeaths  % of Population  \n",
       "10     3100000            3.920  \n",
       "4       600000            1.440  \n",
       "15    27000000            1.150  \n",
       "9       492400            1.135  \n",
       "5      7400000            1.000  \n",
       "20      450900            0.940  \n",
       "21      419400            0.320  "
      ]
     },
     "execution_count": 16,
     "metadata": {},
     "output_type": "execute_result"
    }
   ],
   "source": [
    "# Getting rid of duplicate cols (no duplicates, but showing method)\n",
    "WW2.drop_duplicates(subset=['Country'], keep=False)"
   ]
  },
  {
   "cell_type": "code",
   "execution_count": 17,
   "id": "9bd88974",
   "metadata": {},
   "outputs": [],
   "source": [
    "######### WW1 data request and cleanse ###########import requests - WEB SCRAPING\n",
    "import requests\n",
    "from bs4 import BeautifulSoup\n",
    "\n",
    "url = \"https://en.wikipedia.org/wiki/World_War_I_casualties\"\n",
    "page = requests.get(url)"
   ]
  },
  {
   "cell_type": "code",
   "execution_count": 18,
   "id": "2dca5694",
   "metadata": {},
   "outputs": [],
   "source": [
    "soup = BeautifulSoup(page.content, 'html.parser')\n",
    "indiatable=soup.find('table',{'class':\"wikitable\"})"
   ]
  },
  {
   "cell_type": "code",
   "execution_count": 19,
   "id": "38210f91",
   "metadata": {},
   "outputs": [],
   "source": [
    "#For Loop\n",
    "listings = soup.find_all(\"li\", class_=\"td\")\n",
    "for listing in listings:\n",
    "    print(\"tables\")"
   ]
  },
  {
   "cell_type": "code",
   "execution_count": 20,
   "id": "7b20a1da",
   "metadata": {},
   "outputs": [],
   "source": [
    "df=pd.read_html(str(indiatable))"
   ]
  },
  {
   "cell_type": "code",
   "execution_count": 21,
   "id": "ddf6970c",
   "metadata": {},
   "outputs": [],
   "source": [
    "# indexing to required table\n",
    "world_war = df[0]"
   ]
  },
  {
   "cell_type": "code",
   "execution_count": 22,
   "id": "cac03ad1",
   "metadata": {},
   "outputs": [
    {
     "data": {
      "text/plain": [
       "pandas.core.indexes.multi.MultiIndex"
      ]
     },
     "execution_count": 22,
     "metadata": {},
     "output_type": "execute_result"
    }
   ],
   "source": [
    "type(world_war.columns)"
   ]
  },
  {
   "cell_type": "code",
   "execution_count": 23,
   "id": "0530c56f",
   "metadata": {},
   "outputs": [],
   "source": [
    "#Get rid of unnecessary Axis\n",
    "world_war.columns = world_war.columns.droplevel(level=1)"
   ]
  },
  {
   "cell_type": "code",
   "execution_count": 24,
   "id": "06235d6d",
   "metadata": {},
   "outputs": [
    {
     "data": {
      "text/plain": [
       "Index(['Nation', 'Population (millions)',\n",
       "       'Combat deaths and missing in action (included in total military deaths)',\n",
       "       'Total military deaths (from all causes)',\n",
       "       'Civilian deaths (military action and crimes against humanity)',\n",
       "       'Increase in civilian deaths (malnutrition and disease excluding Influenza pandemic)',\n",
       "       'Total deaths', 'Deaths as % of population', 'Military wounded'],\n",
       "      dtype='object')"
      ]
     },
     "execution_count": 24,
     "metadata": {},
     "output_type": "execute_result"
    }
   ],
   "source": [
    "#Checking Work\n",
    "world_war.columns"
   ]
  },
  {
   "cell_type": "code",
   "execution_count": 25,
   "id": "67309436",
   "metadata": {},
   "outputs": [
    {
     "data": {
      "text/plain": [
       "'Deaths as\\xa0% of population'"
      ]
     },
     "execution_count": 25,
     "metadata": {},
     "output_type": "execute_result"
    }
   ],
   "source": [
    "# looking at column of importance \n",
    "world_war.columns[-2]"
   ]
  },
  {
   "cell_type": "code",
   "execution_count": 26,
   "id": "4ccad0b1",
   "metadata": {},
   "outputs": [
    {
     "data": {
      "text/plain": [
       "0    1.2% to 1.2%\n",
       "1    0.8% to 0.9%\n",
       "2        0% to 0%\n",
       "3    1.5% to 1.6%\n",
       "4    0.6% to 0.8%\n",
       "Name: Deaths as % of population, dtype: object"
      ]
     },
     "execution_count": 26,
     "metadata": {},
     "output_type": "execute_result"
    }
   ],
   "source": [
    "world_war.iloc[:, -2].head()"
   ]
  },
  {
   "cell_type": "code",
   "execution_count": 27,
   "id": "28e7a1f8",
   "metadata": {},
   "outputs": [],
   "source": [
    "# Getting rid of x countries \n",
    "world_war = world_war.drop(labels=[0,1,2,3,4,5,7,8,10,13,14,15,17,19,20,21,22,24,25,26,27,28,29,30,31,32], axis=0)"
   ]
  },
  {
   "cell_type": "code",
   "execution_count": 28,
   "id": "ae72675b",
   "metadata": {},
   "outputs": [
    {
     "data": {
      "text/plain": [
       "array(['1.9% to 2.2%', '4.3% to 4.4%', '3% to 3.5%', '0% to 0%',\n",
       "       '1.6% to 1.9%', '0.1%', '3.4% to 4.3%'], dtype=object)"
      ]
     },
     "execution_count": 28,
     "metadata": {},
     "output_type": "execute_result"
    }
   ],
   "source": [
    "world_war.iloc[:,-2].values"
   ]
  },
  {
   "cell_type": "code",
   "execution_count": 29,
   "id": "3ae94596",
   "metadata": {},
   "outputs": [
    {
     "data": {
      "text/plain": [
       "6     1.9\n",
       "9     4.3\n",
       "11      3\n",
       "12      0\n",
       "16    1.6\n",
       "18    0.1\n",
       "23    3.4\n",
       "Name: Deaths as % of population, dtype: object"
      ]
     },
     "execution_count": 29,
     "metadata": {},
     "output_type": "execute_result"
    }
   ],
   "source": [
    "#Cleaning of data\n",
    "world_war.iloc[:,-2].str.split(\"%\").str[0]"
   ]
  },
  {
   "cell_type": "code",
   "execution_count": 30,
   "id": "9facd146",
   "metadata": {},
   "outputs": [],
   "source": [
    "filtered_deaths_percent = world_war.iloc[:,-2].str.split(\"%\").str[0].values"
   ]
  },
  {
   "cell_type": "code",
   "execution_count": 31,
   "id": "947e37ec",
   "metadata": {},
   "outputs": [
    {
     "data": {
      "text/plain": [
       "array(['1.9', '4.3', '3', '0', '1.6', '0.1', '3.4'], dtype=object)"
      ]
     },
     "execution_count": 31,
     "metadata": {},
     "output_type": "execute_result"
    }
   ],
   "source": [
    "filtered_deaths_percent"
   ]
  },
  {
   "cell_type": "code",
   "execution_count": 32,
   "id": "7a47f593",
   "metadata": {},
   "outputs": [],
   "source": [
    "#New data set\n",
    "world_war_updated = world_war"
   ]
  },
  {
   "cell_type": "code",
   "execution_count": 33,
   "id": "b5711498",
   "metadata": {},
   "outputs": [],
   "source": [
    "world_war_updated.iloc[:,-2] = filtered_deaths_percent"
   ]
  },
  {
   "cell_type": "code",
   "execution_count": 34,
   "id": "bc33293b",
   "metadata": {},
   "outputs": [
    {
     "data": {
      "text/html": [
       "<div>\n",
       "<style scoped>\n",
       "    .dataframe tbody tr th:only-of-type {\n",
       "        vertical-align: middle;\n",
       "    }\n",
       "\n",
       "    .dataframe tbody tr th {\n",
       "        vertical-align: top;\n",
       "    }\n",
       "\n",
       "    .dataframe thead th {\n",
       "        text-align: right;\n",
       "    }\n",
       "</style>\n",
       "<table border=\"1\" class=\"dataframe\">\n",
       "  <thead>\n",
       "    <tr style=\"text-align: right;\">\n",
       "      <th></th>\n",
       "      <th>Nation</th>\n",
       "      <th>Population (millions)</th>\n",
       "      <th>Combat deaths and missing in action (included in total military deaths)</th>\n",
       "      <th>Total military deaths (from all causes)</th>\n",
       "      <th>Civilian deaths (military action and crimes against humanity)</th>\n",
       "      <th>Increase in civilian deaths (malnutrition and disease excluding Influenza pandemic)</th>\n",
       "      <th>Total deaths</th>\n",
       "      <th>Deaths as % of population</th>\n",
       "      <th>Military wounded</th>\n",
       "    </tr>\n",
       "  </thead>\n",
       "  <tbody>\n",
       "    <tr>\n",
       "      <th>6</th>\n",
       "      <td>United Kingdom(and Colonies) s</td>\n",
       "      <td>45.4</td>\n",
       "      <td>744,000s1</td>\n",
       "      <td>887,858[11]</td>\n",
       "      <td>16,829[21][27]</td>\n",
       "      <td>107,000[28]</td>\n",
       "      <td>867,829 to 1,011,687</td>\n",
       "      <td>1.9</td>\n",
       "      <td>1,675,000s1</td>\n",
       "    </tr>\n",
       "    <tr>\n",
       "      <th>9</th>\n",
       "      <td>France e</td>\n",
       "      <td>39.6</td>\n",
       "      <td>1,150,000[34][35]</td>\n",
       "      <td>1,357,000[20]to 1,397,800[36]</td>\n",
       "      <td>40,000[18][37][38]</td>\n",
       "      <td>300,000[32]</td>\n",
       "      <td>1,697,000to 1,737,800</td>\n",
       "      <td>4.3</td>\n",
       "      <td>4,266,000[33]</td>\n",
       "    </tr>\n",
       "    <tr>\n",
       "      <th>11</th>\n",
       "      <td>Italy h</td>\n",
       "      <td>35.6</td>\n",
       "      <td>460,000[29]</td>\n",
       "      <td>460,000[29] to 651,000[41]</td>\n",
       "      <td>3,400[42]</td>\n",
       "      <td>589,000[43]</td>\n",
       "      <td>1,052,400 to 1,243,400</td>\n",
       "      <td>3</td>\n",
       "      <td>947,000[33]</td>\n",
       "    </tr>\n",
       "    <tr>\n",
       "      <th>12</th>\n",
       "      <td>Japan i</td>\n",
       "      <td>53.6</td>\n",
       "      <td>300[33]</td>\n",
       "      <td>300[33] to 4,661[44]</td>\n",
       "      <td>NaN</td>\n",
       "      <td>NaN</td>\n",
       "      <td>300 to 4,661</td>\n",
       "      <td>0</td>\n",
       "      <td>907[33]</td>\n",
       "    </tr>\n",
       "    <tr>\n",
       "      <th>16</th>\n",
       "      <td>Russia p</td>\n",
       "      <td>175.1</td>\n",
       "      <td>775,369 to 1,700,000[33][20]</td>\n",
       "      <td>1,700,000[33] to2,254,369[48]</td>\n",
       "      <td>410,000[49]</td>\n",
       "      <td>730,000[49]</td>\n",
       "      <td>2,840,000 to3,394,369</td>\n",
       "      <td>1.6</td>\n",
       "      <td>3,749,000[48] to4,950,000[33]</td>\n",
       "    </tr>\n",
       "    <tr>\n",
       "      <th>18</th>\n",
       "      <td>United States t</td>\n",
       "      <td>92.0</td>\n",
       "      <td>53,402[52]</td>\n",
       "      <td>116,708[53][54]</td>\n",
       "      <td>757[55]</td>\n",
       "      <td>NaN</td>\n",
       "      <td>117466</td>\n",
       "      <td>0.1</td>\n",
       "      <td>204,002[53]</td>\n",
       "    </tr>\n",
       "    <tr>\n",
       "      <th>23</th>\n",
       "      <td>Germany w</td>\n",
       "      <td>64.9</td>\n",
       "      <td>1,800,000[33][62][63]</td>\n",
       "      <td>2,037,000[64][65]</td>\n",
       "      <td>720[66]</td>\n",
       "      <td>424,000[67] to 763,000[68][69]</td>\n",
       "      <td>2,198,420 to 2,800,720</td>\n",
       "      <td>3.4</td>\n",
       "      <td>4,215,662[64]</td>\n",
       "    </tr>\n",
       "  </tbody>\n",
       "</table>\n",
       "</div>"
      ],
      "text/plain": [
       "                            Nation Population (millions)  \\\n",
       "6   United Kingdom(and Colonies) s                  45.4   \n",
       "9                         France e                  39.6   \n",
       "11                         Italy h                  35.6   \n",
       "12                         Japan i                  53.6   \n",
       "16                        Russia p                 175.1   \n",
       "18                 United States t                  92.0   \n",
       "23                       Germany w                  64.9   \n",
       "\n",
       "   Combat deaths and missing in action (included in total military deaths)  \\\n",
       "6                                           744,000s1                        \n",
       "9                                   1,150,000[34][35]                        \n",
       "11                                        460,000[29]                        \n",
       "12                                            300[33]                        \n",
       "16                       775,369 to 1,700,000[33][20]                        \n",
       "18                                         53,402[52]                        \n",
       "23                              1,800,000[33][62][63]                        \n",
       "\n",
       "   Total military deaths (from all causes)  \\\n",
       "6                              887,858[11]   \n",
       "9            1,357,000[20]to 1,397,800[36]   \n",
       "11              460,000[29] to 651,000[41]   \n",
       "12                    300[33] to 4,661[44]   \n",
       "16           1,700,000[33] to2,254,369[48]   \n",
       "18                         116,708[53][54]   \n",
       "23                       2,037,000[64][65]   \n",
       "\n",
       "   Civilian deaths (military action and crimes against humanity)  \\\n",
       "6                                      16,829[21][27]              \n",
       "9                                  40,000[18][37][38]              \n",
       "11                                          3,400[42]              \n",
       "12                                                NaN              \n",
       "16                                        410,000[49]              \n",
       "18                                            757[55]              \n",
       "23                                            720[66]              \n",
       "\n",
       "   Increase in civilian deaths (malnutrition and disease excluding Influenza pandemic)  \\\n",
       "6                                         107,000[28]                                    \n",
       "9                                         300,000[32]                                    \n",
       "11                                        589,000[43]                                    \n",
       "12                                                NaN                                    \n",
       "16                                        730,000[49]                                    \n",
       "18                                                NaN                                    \n",
       "23                     424,000[67] to 763,000[68][69]                                    \n",
       "\n",
       "              Total deaths Deaths as % of population  \\\n",
       "6     867,829 to 1,011,687                       1.9   \n",
       "9    1,697,000to 1,737,800                       4.3   \n",
       "11  1,052,400 to 1,243,400                         3   \n",
       "12            300 to 4,661                         0   \n",
       "16   2,840,000 to3,394,369                       1.6   \n",
       "18                  117466                       0.1   \n",
       "23  2,198,420 to 2,800,720                       3.4   \n",
       "\n",
       "                 Military wounded  \n",
       "6                     1,675,000s1  \n",
       "9                   4,266,000[33]  \n",
       "11                    947,000[33]  \n",
       "12                        907[33]  \n",
       "16  3,749,000[48] to4,950,000[33]  \n",
       "18                    204,002[53]  \n",
       "23                  4,215,662[64]  "
      ]
     },
     "execution_count": 34,
     "metadata": {},
     "output_type": "execute_result"
    }
   ],
   "source": [
    "world_war_updated"
   ]
  },
  {
   "cell_type": "code",
   "execution_count": 35,
   "id": "9418aa99",
   "metadata": {},
   "outputs": [],
   "source": [
    "#Cleaning of data\n",
    "convert_col_numeric = pd.to_numeric(world_war_updated.iloc[:,-2])"
   ]
  },
  {
   "cell_type": "code",
   "execution_count": 36,
   "id": "33481176",
   "metadata": {},
   "outputs": [],
   "source": [
    "world_war_updated.iloc[:,-2] = convert_col_numeric"
   ]
  },
  {
   "cell_type": "code",
   "execution_count": 37,
   "id": "dda9a575",
   "metadata": {},
   "outputs": [
    {
     "data": {
      "text/html": [
       "<div>\n",
       "<style scoped>\n",
       "    .dataframe tbody tr th:only-of-type {\n",
       "        vertical-align: middle;\n",
       "    }\n",
       "\n",
       "    .dataframe tbody tr th {\n",
       "        vertical-align: top;\n",
       "    }\n",
       "\n",
       "    .dataframe thead th {\n",
       "        text-align: right;\n",
       "    }\n",
       "</style>\n",
       "<table border=\"1\" class=\"dataframe\">\n",
       "  <thead>\n",
       "    <tr style=\"text-align: right;\">\n",
       "      <th></th>\n",
       "      <th>Nation</th>\n",
       "      <th>Population (millions)</th>\n",
       "      <th>Combat deaths and missing in action (included in total military deaths)</th>\n",
       "      <th>Total military deaths (from all causes)</th>\n",
       "      <th>Civilian deaths (military action and crimes against humanity)</th>\n",
       "      <th>Increase in civilian deaths (malnutrition and disease excluding Influenza pandemic)</th>\n",
       "      <th>Total deaths</th>\n",
       "      <th>Deaths as % of population</th>\n",
       "      <th>Military wounded</th>\n",
       "    </tr>\n",
       "  </thead>\n",
       "  <tbody>\n",
       "    <tr>\n",
       "      <th>6</th>\n",
       "      <td>United Kingdom(and Colonies) s</td>\n",
       "      <td>45.4</td>\n",
       "      <td>744,000s1</td>\n",
       "      <td>887,858[11]</td>\n",
       "      <td>16,829[21][27]</td>\n",
       "      <td>107,000[28]</td>\n",
       "      <td>867,829 to 1,011,687</td>\n",
       "      <td>1.9</td>\n",
       "      <td>1,675,000s1</td>\n",
       "    </tr>\n",
       "    <tr>\n",
       "      <th>9</th>\n",
       "      <td>France e</td>\n",
       "      <td>39.6</td>\n",
       "      <td>1,150,000[34][35]</td>\n",
       "      <td>1,357,000[20]to 1,397,800[36]</td>\n",
       "      <td>40,000[18][37][38]</td>\n",
       "      <td>300,000[32]</td>\n",
       "      <td>1,697,000to 1,737,800</td>\n",
       "      <td>4.3</td>\n",
       "      <td>4,266,000[33]</td>\n",
       "    </tr>\n",
       "    <tr>\n",
       "      <th>11</th>\n",
       "      <td>Italy h</td>\n",
       "      <td>35.6</td>\n",
       "      <td>460,000[29]</td>\n",
       "      <td>460,000[29] to 651,000[41]</td>\n",
       "      <td>3,400[42]</td>\n",
       "      <td>589,000[43]</td>\n",
       "      <td>1,052,400 to 1,243,400</td>\n",
       "      <td>3.0</td>\n",
       "      <td>947,000[33]</td>\n",
       "    </tr>\n",
       "    <tr>\n",
       "      <th>12</th>\n",
       "      <td>Japan i</td>\n",
       "      <td>53.6</td>\n",
       "      <td>300[33]</td>\n",
       "      <td>300[33] to 4,661[44]</td>\n",
       "      <td>NaN</td>\n",
       "      <td>NaN</td>\n",
       "      <td>300 to 4,661</td>\n",
       "      <td>0.0</td>\n",
       "      <td>907[33]</td>\n",
       "    </tr>\n",
       "    <tr>\n",
       "      <th>16</th>\n",
       "      <td>Russia p</td>\n",
       "      <td>175.1</td>\n",
       "      <td>775,369 to 1,700,000[33][20]</td>\n",
       "      <td>1,700,000[33] to2,254,369[48]</td>\n",
       "      <td>410,000[49]</td>\n",
       "      <td>730,000[49]</td>\n",
       "      <td>2,840,000 to3,394,369</td>\n",
       "      <td>1.6</td>\n",
       "      <td>3,749,000[48] to4,950,000[33]</td>\n",
       "    </tr>\n",
       "    <tr>\n",
       "      <th>18</th>\n",
       "      <td>United States t</td>\n",
       "      <td>92.0</td>\n",
       "      <td>53,402[52]</td>\n",
       "      <td>116,708[53][54]</td>\n",
       "      <td>757[55]</td>\n",
       "      <td>NaN</td>\n",
       "      <td>117466</td>\n",
       "      <td>0.1</td>\n",
       "      <td>204,002[53]</td>\n",
       "    </tr>\n",
       "    <tr>\n",
       "      <th>23</th>\n",
       "      <td>Germany w</td>\n",
       "      <td>64.9</td>\n",
       "      <td>1,800,000[33][62][63]</td>\n",
       "      <td>2,037,000[64][65]</td>\n",
       "      <td>720[66]</td>\n",
       "      <td>424,000[67] to 763,000[68][69]</td>\n",
       "      <td>2,198,420 to 2,800,720</td>\n",
       "      <td>3.4</td>\n",
       "      <td>4,215,662[64]</td>\n",
       "    </tr>\n",
       "  </tbody>\n",
       "</table>\n",
       "</div>"
      ],
      "text/plain": [
       "                            Nation Population (millions)  \\\n",
       "6   United Kingdom(and Colonies) s                  45.4   \n",
       "9                         France e                  39.6   \n",
       "11                         Italy h                  35.6   \n",
       "12                         Japan i                  53.6   \n",
       "16                        Russia p                 175.1   \n",
       "18                 United States t                  92.0   \n",
       "23                       Germany w                  64.9   \n",
       "\n",
       "   Combat deaths and missing in action (included in total military deaths)  \\\n",
       "6                                           744,000s1                        \n",
       "9                                   1,150,000[34][35]                        \n",
       "11                                        460,000[29]                        \n",
       "12                                            300[33]                        \n",
       "16                       775,369 to 1,700,000[33][20]                        \n",
       "18                                         53,402[52]                        \n",
       "23                              1,800,000[33][62][63]                        \n",
       "\n",
       "   Total military deaths (from all causes)  \\\n",
       "6                              887,858[11]   \n",
       "9            1,357,000[20]to 1,397,800[36]   \n",
       "11              460,000[29] to 651,000[41]   \n",
       "12                    300[33] to 4,661[44]   \n",
       "16           1,700,000[33] to2,254,369[48]   \n",
       "18                         116,708[53][54]   \n",
       "23                       2,037,000[64][65]   \n",
       "\n",
       "   Civilian deaths (military action and crimes against humanity)  \\\n",
       "6                                      16,829[21][27]              \n",
       "9                                  40,000[18][37][38]              \n",
       "11                                          3,400[42]              \n",
       "12                                                NaN              \n",
       "16                                        410,000[49]              \n",
       "18                                            757[55]              \n",
       "23                                            720[66]              \n",
       "\n",
       "   Increase in civilian deaths (malnutrition and disease excluding Influenza pandemic)  \\\n",
       "6                                         107,000[28]                                    \n",
       "9                                         300,000[32]                                    \n",
       "11                                        589,000[43]                                    \n",
       "12                                                NaN                                    \n",
       "16                                        730,000[49]                                    \n",
       "18                                                NaN                                    \n",
       "23                     424,000[67] to 763,000[68][69]                                    \n",
       "\n",
       "              Total deaths  Deaths as % of population  \\\n",
       "6     867,829 to 1,011,687                        1.9   \n",
       "9    1,697,000to 1,737,800                        4.3   \n",
       "11  1,052,400 to 1,243,400                        3.0   \n",
       "12            300 to 4,661                        0.0   \n",
       "16   2,840,000 to3,394,369                        1.6   \n",
       "18                  117466                        0.1   \n",
       "23  2,198,420 to 2,800,720                        3.4   \n",
       "\n",
       "                 Military wounded  \n",
       "6                     1,675,000s1  \n",
       "9                   4,266,000[33]  \n",
       "11                    947,000[33]  \n",
       "12                        907[33]  \n",
       "16  3,749,000[48] to4,950,000[33]  \n",
       "18                    204,002[53]  \n",
       "23                  4,215,662[64]  "
      ]
     },
     "execution_count": 37,
     "metadata": {},
     "output_type": "execute_result"
    }
   ],
   "source": [
    "world_war_updated"
   ]
  },
  {
   "cell_type": "code",
   "execution_count": 38,
   "id": "06fde62e",
   "metadata": {},
   "outputs": [
    {
     "data": {
      "text/plain": [
       "6     [United, Kingdom(and, Colonies)]\n",
       "9                             [France]\n",
       "11                             [Italy]\n",
       "12                             [Japan]\n",
       "16                            [Russia]\n",
       "18                    [United, States]\n",
       "23                           [Germany]\n",
       "Name: Nation, dtype: object"
      ]
     },
     "execution_count": 38,
     "metadata": {},
     "output_type": "execute_result"
    }
   ],
   "source": [
    "#Splitting Countries to align with other set\n",
    "world_war_updated[\"Nation\"].str.split().str[:-1]"
   ]
  },
  {
   "cell_type": "code",
   "execution_count": 39,
   "id": "92c8b1cf",
   "metadata": {},
   "outputs": [],
   "source": [
    "nations_updated = world_war_updated[\"Nation\"].str.split().str[:-1].str.join(\" \").str.split(\"(\").str[0]"
   ]
  },
  {
   "cell_type": "code",
   "execution_count": 40,
   "id": "fd338b44",
   "metadata": {},
   "outputs": [
    {
     "data": {
      "text/plain": [
       "6     United Kingdom\n",
       "9             France\n",
       "11             Italy\n",
       "12             Japan\n",
       "16            Russia\n",
       "18     United States\n",
       "23           Germany\n",
       "Name: Nation, dtype: object"
      ]
     },
     "execution_count": 40,
     "metadata": {},
     "output_type": "execute_result"
    }
   ],
   "source": [
    "nations_updated"
   ]
  },
  {
   "cell_type": "code",
   "execution_count": 41,
   "id": "c766babc",
   "metadata": {},
   "outputs": [],
   "source": [
    "world_war_updated[\"Nation\"] = nations_updated"
   ]
  },
  {
   "cell_type": "code",
   "execution_count": 42,
   "id": "d2745775",
   "metadata": {},
   "outputs": [
    {
     "data": {
      "text/html": [
       "<div>\n",
       "<style scoped>\n",
       "    .dataframe tbody tr th:only-of-type {\n",
       "        vertical-align: middle;\n",
       "    }\n",
       "\n",
       "    .dataframe tbody tr th {\n",
       "        vertical-align: top;\n",
       "    }\n",
       "\n",
       "    .dataframe thead th {\n",
       "        text-align: right;\n",
       "    }\n",
       "</style>\n",
       "<table border=\"1\" class=\"dataframe\">\n",
       "  <thead>\n",
       "    <tr style=\"text-align: right;\">\n",
       "      <th></th>\n",
       "      <th>Nation</th>\n",
       "      <th>Population (millions)</th>\n",
       "      <th>Combat deaths and missing in action (included in total military deaths)</th>\n",
       "      <th>Total military deaths (from all causes)</th>\n",
       "      <th>Civilian deaths (military action and crimes against humanity)</th>\n",
       "      <th>Increase in civilian deaths (malnutrition and disease excluding Influenza pandemic)</th>\n",
       "      <th>Total deaths</th>\n",
       "      <th>Deaths as % of population</th>\n",
       "      <th>Military wounded</th>\n",
       "    </tr>\n",
       "  </thead>\n",
       "  <tbody>\n",
       "    <tr>\n",
       "      <th>6</th>\n",
       "      <td>United Kingdom</td>\n",
       "      <td>45.4</td>\n",
       "      <td>744,000s1</td>\n",
       "      <td>887,858[11]</td>\n",
       "      <td>16,829[21][27]</td>\n",
       "      <td>107,000[28]</td>\n",
       "      <td>867,829 to 1,011,687</td>\n",
       "      <td>1.9</td>\n",
       "      <td>1,675,000s1</td>\n",
       "    </tr>\n",
       "    <tr>\n",
       "      <th>9</th>\n",
       "      <td>France</td>\n",
       "      <td>39.6</td>\n",
       "      <td>1,150,000[34][35]</td>\n",
       "      <td>1,357,000[20]to 1,397,800[36]</td>\n",
       "      <td>40,000[18][37][38]</td>\n",
       "      <td>300,000[32]</td>\n",
       "      <td>1,697,000to 1,737,800</td>\n",
       "      <td>4.3</td>\n",
       "      <td>4,266,000[33]</td>\n",
       "    </tr>\n",
       "    <tr>\n",
       "      <th>11</th>\n",
       "      <td>Italy</td>\n",
       "      <td>35.6</td>\n",
       "      <td>460,000[29]</td>\n",
       "      <td>460,000[29] to 651,000[41]</td>\n",
       "      <td>3,400[42]</td>\n",
       "      <td>589,000[43]</td>\n",
       "      <td>1,052,400 to 1,243,400</td>\n",
       "      <td>3.0</td>\n",
       "      <td>947,000[33]</td>\n",
       "    </tr>\n",
       "    <tr>\n",
       "      <th>12</th>\n",
       "      <td>Japan</td>\n",
       "      <td>53.6</td>\n",
       "      <td>300[33]</td>\n",
       "      <td>300[33] to 4,661[44]</td>\n",
       "      <td>NaN</td>\n",
       "      <td>NaN</td>\n",
       "      <td>300 to 4,661</td>\n",
       "      <td>0.0</td>\n",
       "      <td>907[33]</td>\n",
       "    </tr>\n",
       "    <tr>\n",
       "      <th>16</th>\n",
       "      <td>Russia</td>\n",
       "      <td>175.1</td>\n",
       "      <td>775,369 to 1,700,000[33][20]</td>\n",
       "      <td>1,700,000[33] to2,254,369[48]</td>\n",
       "      <td>410,000[49]</td>\n",
       "      <td>730,000[49]</td>\n",
       "      <td>2,840,000 to3,394,369</td>\n",
       "      <td>1.6</td>\n",
       "      <td>3,749,000[48] to4,950,000[33]</td>\n",
       "    </tr>\n",
       "    <tr>\n",
       "      <th>18</th>\n",
       "      <td>United States</td>\n",
       "      <td>92.0</td>\n",
       "      <td>53,402[52]</td>\n",
       "      <td>116,708[53][54]</td>\n",
       "      <td>757[55]</td>\n",
       "      <td>NaN</td>\n",
       "      <td>117466</td>\n",
       "      <td>0.1</td>\n",
       "      <td>204,002[53]</td>\n",
       "    </tr>\n",
       "    <tr>\n",
       "      <th>23</th>\n",
       "      <td>Germany</td>\n",
       "      <td>64.9</td>\n",
       "      <td>1,800,000[33][62][63]</td>\n",
       "      <td>2,037,000[64][65]</td>\n",
       "      <td>720[66]</td>\n",
       "      <td>424,000[67] to 763,000[68][69]</td>\n",
       "      <td>2,198,420 to 2,800,720</td>\n",
       "      <td>3.4</td>\n",
       "      <td>4,215,662[64]</td>\n",
       "    </tr>\n",
       "  </tbody>\n",
       "</table>\n",
       "</div>"
      ],
      "text/plain": [
       "            Nation Population (millions)  \\\n",
       "6   United Kingdom                  45.4   \n",
       "9           France                  39.6   \n",
       "11           Italy                  35.6   \n",
       "12           Japan                  53.6   \n",
       "16          Russia                 175.1   \n",
       "18   United States                  92.0   \n",
       "23         Germany                  64.9   \n",
       "\n",
       "   Combat deaths and missing in action (included in total military deaths)  \\\n",
       "6                                           744,000s1                        \n",
       "9                                   1,150,000[34][35]                        \n",
       "11                                        460,000[29]                        \n",
       "12                                            300[33]                        \n",
       "16                       775,369 to 1,700,000[33][20]                        \n",
       "18                                         53,402[52]                        \n",
       "23                              1,800,000[33][62][63]                        \n",
       "\n",
       "   Total military deaths (from all causes)  \\\n",
       "6                              887,858[11]   \n",
       "9            1,357,000[20]to 1,397,800[36]   \n",
       "11              460,000[29] to 651,000[41]   \n",
       "12                    300[33] to 4,661[44]   \n",
       "16           1,700,000[33] to2,254,369[48]   \n",
       "18                         116,708[53][54]   \n",
       "23                       2,037,000[64][65]   \n",
       "\n",
       "   Civilian deaths (military action and crimes against humanity)  \\\n",
       "6                                      16,829[21][27]              \n",
       "9                                  40,000[18][37][38]              \n",
       "11                                          3,400[42]              \n",
       "12                                                NaN              \n",
       "16                                        410,000[49]              \n",
       "18                                            757[55]              \n",
       "23                                            720[66]              \n",
       "\n",
       "   Increase in civilian deaths (malnutrition and disease excluding Influenza pandemic)  \\\n",
       "6                                         107,000[28]                                    \n",
       "9                                         300,000[32]                                    \n",
       "11                                        589,000[43]                                    \n",
       "12                                                NaN                                    \n",
       "16                                        730,000[49]                                    \n",
       "18                                                NaN                                    \n",
       "23                     424,000[67] to 763,000[68][69]                                    \n",
       "\n",
       "              Total deaths  Deaths as % of population  \\\n",
       "6     867,829 to 1,011,687                        1.9   \n",
       "9    1,697,000to 1,737,800                        4.3   \n",
       "11  1,052,400 to 1,243,400                        3.0   \n",
       "12            300 to 4,661                        0.0   \n",
       "16   2,840,000 to3,394,369                        1.6   \n",
       "18                  117466                        0.1   \n",
       "23  2,198,420 to 2,800,720                        3.4   \n",
       "\n",
       "                 Military wounded  \n",
       "6                     1,675,000s1  \n",
       "9                   4,266,000[33]  \n",
       "11                    947,000[33]  \n",
       "12                        907[33]  \n",
       "16  3,749,000[48] to4,950,000[33]  \n",
       "18                    204,002[53]  \n",
       "23                  4,215,662[64]  "
      ]
     },
     "execution_count": 42,
     "metadata": {},
     "output_type": "execute_result"
    }
   ],
   "source": [
    "world_war_updated"
   ]
  },
  {
   "cell_type": "code",
   "execution_count": 43,
   "id": "e0d6eed9",
   "metadata": {},
   "outputs": [
    {
     "data": {
      "text/html": [
       "<div>\n",
       "<style scoped>\n",
       "    .dataframe tbody tr th:only-of-type {\n",
       "        vertical-align: middle;\n",
       "    }\n",
       "\n",
       "    .dataframe tbody tr th {\n",
       "        vertical-align: top;\n",
       "    }\n",
       "\n",
       "    .dataframe thead th {\n",
       "        text-align: right;\n",
       "    }\n",
       "</style>\n",
       "<table border=\"1\" class=\"dataframe\">\n",
       "  <thead>\n",
       "    <tr style=\"text-align: right;\">\n",
       "      <th></th>\n",
       "      <th>Country</th>\n",
       "      <th>Total pop 19391939</th>\n",
       "      <th>Militarydeaths</th>\n",
       "      <th>Civilian deaths</th>\n",
       "      <th>Totaldeaths</th>\n",
       "      <th>% of Population</th>\n",
       "    </tr>\n",
       "  </thead>\n",
       "  <tbody>\n",
       "    <tr>\n",
       "      <th>10</th>\n",
       "      <td>Japan</td>\n",
       "      <td>71380000</td>\n",
       "      <td>2300000</td>\n",
       "      <td>800000</td>\n",
       "      <td>3100000</td>\n",
       "      <td>3.920</td>\n",
       "    </tr>\n",
       "    <tr>\n",
       "      <th>4</th>\n",
       "      <td>France</td>\n",
       "      <td>41680000</td>\n",
       "      <td>210000</td>\n",
       "      <td>390000</td>\n",
       "      <td>600000</td>\n",
       "      <td>1.440</td>\n",
       "    </tr>\n",
       "    <tr>\n",
       "      <th>15</th>\n",
       "      <td>Soviet Union</td>\n",
       "      <td>188793000</td>\n",
       "      <td>11400000</td>\n",
       "      <td>10000000</td>\n",
       "      <td>27000000</td>\n",
       "      <td>1.150</td>\n",
       "    </tr>\n",
       "    <tr>\n",
       "      <th>9</th>\n",
       "      <td>Italy</td>\n",
       "      <td>44394000</td>\n",
       "      <td>341000</td>\n",
       "      <td>153200</td>\n",
       "      <td>492400</td>\n",
       "      <td>1.135</td>\n",
       "    </tr>\n",
       "    <tr>\n",
       "      <th>5</th>\n",
       "      <td>Germany</td>\n",
       "      <td>69300000</td>\n",
       "      <td>5318000</td>\n",
       "      <td>3000000</td>\n",
       "      <td>7400000</td>\n",
       "      <td>1.000</td>\n",
       "    </tr>\n",
       "    <tr>\n",
       "      <th>20</th>\n",
       "      <td>United Kingdom</td>\n",
       "      <td>47760000</td>\n",
       "      <td>383700</td>\n",
       "      <td>67200</td>\n",
       "      <td>450900</td>\n",
       "      <td>0.940</td>\n",
       "    </tr>\n",
       "    <tr>\n",
       "      <th>21</th>\n",
       "      <td>United States</td>\n",
       "      <td>131028000</td>\n",
       "      <td>407300</td>\n",
       "      <td>12100</td>\n",
       "      <td>419400</td>\n",
       "      <td>0.320</td>\n",
       "    </tr>\n",
       "  </tbody>\n",
       "</table>\n",
       "</div>"
      ],
      "text/plain": [
       "           Country  Total pop 19391939  Militarydeaths Civilian deaths  \\\n",
       "10           Japan            71380000         2300000          800000   \n",
       "4           France            41680000          210000          390000   \n",
       "15    Soviet Union           188793000        11400000        10000000   \n",
       "9            Italy            44394000          341000          153200   \n",
       "5          Germany            69300000         5318000         3000000   \n",
       "20  United Kingdom            47760000          383700           67200   \n",
       "21   United States           131028000          407300           12100   \n",
       "\n",
       "   Totaldeaths  % of Population  \n",
       "10     3100000            3.920  \n",
       "4       600000            1.440  \n",
       "15    27000000            1.150  \n",
       "9       492400            1.135  \n",
       "5      7400000            1.000  \n",
       "20      450900            0.940  \n",
       "21      419400            0.320  "
      ]
     },
     "execution_count": 43,
     "metadata": {},
     "output_type": "execute_result"
    }
   ],
   "source": [
    "#Pre merge check\n",
    "WW2"
   ]
  },
  {
   "cell_type": "code",
   "execution_count": 44,
   "id": "9a6788c0",
   "metadata": {},
   "outputs": [],
   "source": [
    "Tab = WW2.replace('Soviet Union', 'Russia')"
   ]
  },
  {
   "cell_type": "code",
   "execution_count": 45,
   "id": "733f1f71",
   "metadata": {},
   "outputs": [],
   "source": [
    "WW2 = Tab"
   ]
  },
  {
   "cell_type": "code",
   "execution_count": 46,
   "id": "848aa20e",
   "metadata": {},
   "outputs": [],
   "source": [
    "#Merging of datasets - Innerjoin\n",
    "Twoworldwars = pd.merge(world_war_updated, WW2, left_on = 'Nation', right_on = 'Country')"
   ]
  },
  {
   "cell_type": "code",
   "execution_count": 47,
   "id": "484419a2",
   "metadata": {},
   "outputs": [
    {
     "data": {
      "text/html": [
       "<div>\n",
       "<style scoped>\n",
       "    .dataframe tbody tr th:only-of-type {\n",
       "        vertical-align: middle;\n",
       "    }\n",
       "\n",
       "    .dataframe tbody tr th {\n",
       "        vertical-align: top;\n",
       "    }\n",
       "\n",
       "    .dataframe thead th {\n",
       "        text-align: right;\n",
       "    }\n",
       "</style>\n",
       "<table border=\"1\" class=\"dataframe\">\n",
       "  <thead>\n",
       "    <tr style=\"text-align: right;\">\n",
       "      <th></th>\n",
       "      <th>Nation</th>\n",
       "      <th>Population (millions)</th>\n",
       "      <th>Combat deaths and missing in action (included in total military deaths)</th>\n",
       "      <th>Total military deaths (from all causes)</th>\n",
       "      <th>Civilian deaths (military action and crimes against humanity)</th>\n",
       "      <th>Increase in civilian deaths (malnutrition and disease excluding Influenza pandemic)</th>\n",
       "      <th>Total deaths</th>\n",
       "      <th>Deaths as % of population</th>\n",
       "      <th>Military wounded</th>\n",
       "      <th>Country</th>\n",
       "      <th>Total pop 19391939</th>\n",
       "      <th>Militarydeaths</th>\n",
       "      <th>Civilian deaths</th>\n",
       "      <th>Totaldeaths</th>\n",
       "      <th>% of Population</th>\n",
       "    </tr>\n",
       "  </thead>\n",
       "  <tbody>\n",
       "    <tr>\n",
       "      <th>0</th>\n",
       "      <td>United Kingdom</td>\n",
       "      <td>45.4</td>\n",
       "      <td>744,000s1</td>\n",
       "      <td>887,858[11]</td>\n",
       "      <td>16,829[21][27]</td>\n",
       "      <td>107,000[28]</td>\n",
       "      <td>867,829 to 1,011,687</td>\n",
       "      <td>1.9</td>\n",
       "      <td>1,675,000s1</td>\n",
       "      <td>United Kingdom</td>\n",
       "      <td>47760000</td>\n",
       "      <td>383700</td>\n",
       "      <td>67200</td>\n",
       "      <td>450900</td>\n",
       "      <td>0.940</td>\n",
       "    </tr>\n",
       "    <tr>\n",
       "      <th>1</th>\n",
       "      <td>France</td>\n",
       "      <td>39.6</td>\n",
       "      <td>1,150,000[34][35]</td>\n",
       "      <td>1,357,000[20]to 1,397,800[36]</td>\n",
       "      <td>40,000[18][37][38]</td>\n",
       "      <td>300,000[32]</td>\n",
       "      <td>1,697,000to 1,737,800</td>\n",
       "      <td>4.3</td>\n",
       "      <td>4,266,000[33]</td>\n",
       "      <td>France</td>\n",
       "      <td>41680000</td>\n",
       "      <td>210000</td>\n",
       "      <td>390000</td>\n",
       "      <td>600000</td>\n",
       "      <td>1.440</td>\n",
       "    </tr>\n",
       "    <tr>\n",
       "      <th>2</th>\n",
       "      <td>Italy</td>\n",
       "      <td>35.6</td>\n",
       "      <td>460,000[29]</td>\n",
       "      <td>460,000[29] to 651,000[41]</td>\n",
       "      <td>3,400[42]</td>\n",
       "      <td>589,000[43]</td>\n",
       "      <td>1,052,400 to 1,243,400</td>\n",
       "      <td>3.0</td>\n",
       "      <td>947,000[33]</td>\n",
       "      <td>Italy</td>\n",
       "      <td>44394000</td>\n",
       "      <td>341000</td>\n",
       "      <td>153200</td>\n",
       "      <td>492400</td>\n",
       "      <td>1.135</td>\n",
       "    </tr>\n",
       "    <tr>\n",
       "      <th>3</th>\n",
       "      <td>Japan</td>\n",
       "      <td>53.6</td>\n",
       "      <td>300[33]</td>\n",
       "      <td>300[33] to 4,661[44]</td>\n",
       "      <td>NaN</td>\n",
       "      <td>NaN</td>\n",
       "      <td>300 to 4,661</td>\n",
       "      <td>0.0</td>\n",
       "      <td>907[33]</td>\n",
       "      <td>Japan</td>\n",
       "      <td>71380000</td>\n",
       "      <td>2300000</td>\n",
       "      <td>800000</td>\n",
       "      <td>3100000</td>\n",
       "      <td>3.920</td>\n",
       "    </tr>\n",
       "    <tr>\n",
       "      <th>4</th>\n",
       "      <td>Russia</td>\n",
       "      <td>175.1</td>\n",
       "      <td>775,369 to 1,700,000[33][20]</td>\n",
       "      <td>1,700,000[33] to2,254,369[48]</td>\n",
       "      <td>410,000[49]</td>\n",
       "      <td>730,000[49]</td>\n",
       "      <td>2,840,000 to3,394,369</td>\n",
       "      <td>1.6</td>\n",
       "      <td>3,749,000[48] to4,950,000[33]</td>\n",
       "      <td>Russia</td>\n",
       "      <td>188793000</td>\n",
       "      <td>11400000</td>\n",
       "      <td>10000000</td>\n",
       "      <td>27000000</td>\n",
       "      <td>1.150</td>\n",
       "    </tr>\n",
       "    <tr>\n",
       "      <th>5</th>\n",
       "      <td>United States</td>\n",
       "      <td>92.0</td>\n",
       "      <td>53,402[52]</td>\n",
       "      <td>116,708[53][54]</td>\n",
       "      <td>757[55]</td>\n",
       "      <td>NaN</td>\n",
       "      <td>117466</td>\n",
       "      <td>0.1</td>\n",
       "      <td>204,002[53]</td>\n",
       "      <td>United States</td>\n",
       "      <td>131028000</td>\n",
       "      <td>407300</td>\n",
       "      <td>12100</td>\n",
       "      <td>419400</td>\n",
       "      <td>0.320</td>\n",
       "    </tr>\n",
       "    <tr>\n",
       "      <th>6</th>\n",
       "      <td>Germany</td>\n",
       "      <td>64.9</td>\n",
       "      <td>1,800,000[33][62][63]</td>\n",
       "      <td>2,037,000[64][65]</td>\n",
       "      <td>720[66]</td>\n",
       "      <td>424,000[67] to 763,000[68][69]</td>\n",
       "      <td>2,198,420 to 2,800,720</td>\n",
       "      <td>3.4</td>\n",
       "      <td>4,215,662[64]</td>\n",
       "      <td>Germany</td>\n",
       "      <td>69300000</td>\n",
       "      <td>5318000</td>\n",
       "      <td>3000000</td>\n",
       "      <td>7400000</td>\n",
       "      <td>1.000</td>\n",
       "    </tr>\n",
       "  </tbody>\n",
       "</table>\n",
       "</div>"
      ],
      "text/plain": [
       "           Nation Population (millions)  \\\n",
       "0  United Kingdom                  45.4   \n",
       "1          France                  39.6   \n",
       "2           Italy                  35.6   \n",
       "3           Japan                  53.6   \n",
       "4          Russia                 175.1   \n",
       "5   United States                  92.0   \n",
       "6         Germany                  64.9   \n",
       "\n",
       "  Combat deaths and missing in action (included in total military deaths)  \\\n",
       "0                                          744,000s1                        \n",
       "1                                  1,150,000[34][35]                        \n",
       "2                                        460,000[29]                        \n",
       "3                                            300[33]                        \n",
       "4                       775,369 to 1,700,000[33][20]                        \n",
       "5                                         53,402[52]                        \n",
       "6                              1,800,000[33][62][63]                        \n",
       "\n",
       "  Total military deaths (from all causes)  \\\n",
       "0                             887,858[11]   \n",
       "1           1,357,000[20]to 1,397,800[36]   \n",
       "2              460,000[29] to 651,000[41]   \n",
       "3                    300[33] to 4,661[44]   \n",
       "4           1,700,000[33] to2,254,369[48]   \n",
       "5                         116,708[53][54]   \n",
       "6                       2,037,000[64][65]   \n",
       "\n",
       "  Civilian deaths (military action and crimes against humanity)  \\\n",
       "0                                     16,829[21][27]              \n",
       "1                                 40,000[18][37][38]              \n",
       "2                                          3,400[42]              \n",
       "3                                                NaN              \n",
       "4                                        410,000[49]              \n",
       "5                                            757[55]              \n",
       "6                                            720[66]              \n",
       "\n",
       "  Increase in civilian deaths (malnutrition and disease excluding Influenza pandemic)  \\\n",
       "0                                        107,000[28]                                    \n",
       "1                                        300,000[32]                                    \n",
       "2                                        589,000[43]                                    \n",
       "3                                                NaN                                    \n",
       "4                                        730,000[49]                                    \n",
       "5                                                NaN                                    \n",
       "6                     424,000[67] to 763,000[68][69]                                    \n",
       "\n",
       "             Total deaths  Deaths as % of population  \\\n",
       "0    867,829 to 1,011,687                        1.9   \n",
       "1   1,697,000to 1,737,800                        4.3   \n",
       "2  1,052,400 to 1,243,400                        3.0   \n",
       "3            300 to 4,661                        0.0   \n",
       "4   2,840,000 to3,394,369                        1.6   \n",
       "5                  117466                        0.1   \n",
       "6  2,198,420 to 2,800,720                        3.4   \n",
       "\n",
       "                Military wounded         Country  Total pop 19391939  \\\n",
       "0                    1,675,000s1  United Kingdom            47760000   \n",
       "1                  4,266,000[33]          France            41680000   \n",
       "2                    947,000[33]           Italy            44394000   \n",
       "3                        907[33]           Japan            71380000   \n",
       "4  3,749,000[48] to4,950,000[33]          Russia           188793000   \n",
       "5                    204,002[53]   United States           131028000   \n",
       "6                  4,215,662[64]         Germany            69300000   \n",
       "\n",
       "   Militarydeaths Civilian deaths Totaldeaths  % of Population  \n",
       "0          383700           67200      450900            0.940  \n",
       "1          210000          390000      600000            1.440  \n",
       "2          341000          153200      492400            1.135  \n",
       "3         2300000          800000     3100000            3.920  \n",
       "4        11400000        10000000    27000000            1.150  \n",
       "5          407300           12100      419400            0.320  \n",
       "6         5318000         3000000     7400000            1.000  "
      ]
     },
     "execution_count": 47,
     "metadata": {},
     "output_type": "execute_result"
    }
   ],
   "source": [
    "Twoworldwars"
   ]
  },
  {
   "cell_type": "code",
   "execution_count": 48,
   "id": "f8503ee4",
   "metadata": {},
   "outputs": [],
   "source": [
    "#Focusing of right columns\n",
    "Table1 = Twoworldwars.iloc[:, [0,6,7,9,13,14]]"
   ]
  },
  {
   "cell_type": "code",
   "execution_count": 49,
   "id": "8a6613de",
   "metadata": {},
   "outputs": [
    {
     "data": {
      "text/html": [
       "<div>\n",
       "<style scoped>\n",
       "    .dataframe tbody tr th:only-of-type {\n",
       "        vertical-align: middle;\n",
       "    }\n",
       "\n",
       "    .dataframe tbody tr th {\n",
       "        vertical-align: top;\n",
       "    }\n",
       "\n",
       "    .dataframe thead th {\n",
       "        text-align: right;\n",
       "    }\n",
       "</style>\n",
       "<table border=\"1\" class=\"dataframe\">\n",
       "  <thead>\n",
       "    <tr style=\"text-align: right;\">\n",
       "      <th></th>\n",
       "      <th>Nation</th>\n",
       "      <th>Total deaths</th>\n",
       "      <th>Deaths as % of population</th>\n",
       "      <th>Country</th>\n",
       "      <th>Totaldeaths</th>\n",
       "      <th>% of Population</th>\n",
       "    </tr>\n",
       "  </thead>\n",
       "  <tbody>\n",
       "    <tr>\n",
       "      <th>0</th>\n",
       "      <td>United Kingdom</td>\n",
       "      <td>867,829 to 1,011,687</td>\n",
       "      <td>1.9</td>\n",
       "      <td>United Kingdom</td>\n",
       "      <td>450900</td>\n",
       "      <td>0.940</td>\n",
       "    </tr>\n",
       "    <tr>\n",
       "      <th>1</th>\n",
       "      <td>France</td>\n",
       "      <td>1,697,000to 1,737,800</td>\n",
       "      <td>4.3</td>\n",
       "      <td>France</td>\n",
       "      <td>600000</td>\n",
       "      <td>1.440</td>\n",
       "    </tr>\n",
       "    <tr>\n",
       "      <th>2</th>\n",
       "      <td>Italy</td>\n",
       "      <td>1,052,400 to 1,243,400</td>\n",
       "      <td>3.0</td>\n",
       "      <td>Italy</td>\n",
       "      <td>492400</td>\n",
       "      <td>1.135</td>\n",
       "    </tr>\n",
       "    <tr>\n",
       "      <th>3</th>\n",
       "      <td>Japan</td>\n",
       "      <td>300 to 4,661</td>\n",
       "      <td>0.0</td>\n",
       "      <td>Japan</td>\n",
       "      <td>3100000</td>\n",
       "      <td>3.920</td>\n",
       "    </tr>\n",
       "    <tr>\n",
       "      <th>4</th>\n",
       "      <td>Russia</td>\n",
       "      <td>2,840,000 to3,394,369</td>\n",
       "      <td>1.6</td>\n",
       "      <td>Russia</td>\n",
       "      <td>27000000</td>\n",
       "      <td>1.150</td>\n",
       "    </tr>\n",
       "    <tr>\n",
       "      <th>5</th>\n",
       "      <td>United States</td>\n",
       "      <td>117466</td>\n",
       "      <td>0.1</td>\n",
       "      <td>United States</td>\n",
       "      <td>419400</td>\n",
       "      <td>0.320</td>\n",
       "    </tr>\n",
       "    <tr>\n",
       "      <th>6</th>\n",
       "      <td>Germany</td>\n",
       "      <td>2,198,420 to 2,800,720</td>\n",
       "      <td>3.4</td>\n",
       "      <td>Germany</td>\n",
       "      <td>7400000</td>\n",
       "      <td>1.000</td>\n",
       "    </tr>\n",
       "  </tbody>\n",
       "</table>\n",
       "</div>"
      ],
      "text/plain": [
       "           Nation            Total deaths  Deaths as % of population  \\\n",
       "0  United Kingdom    867,829 to 1,011,687                        1.9   \n",
       "1          France   1,697,000to 1,737,800                        4.3   \n",
       "2           Italy  1,052,400 to 1,243,400                        3.0   \n",
       "3           Japan            300 to 4,661                        0.0   \n",
       "4          Russia   2,840,000 to3,394,369                        1.6   \n",
       "5   United States                  117466                        0.1   \n",
       "6         Germany  2,198,420 to 2,800,720                        3.4   \n",
       "\n",
       "          Country Totaldeaths  % of Population  \n",
       "0  United Kingdom      450900            0.940  \n",
       "1          France      600000            1.440  \n",
       "2           Italy      492400            1.135  \n",
       "3           Japan     3100000            3.920  \n",
       "4          Russia    27000000            1.150  \n",
       "5   United States      419400            0.320  \n",
       "6         Germany     7400000            1.000  "
      ]
     },
     "execution_count": 49,
     "metadata": {},
     "output_type": "execute_result"
    }
   ],
   "source": [
    "Table1"
   ]
  },
  {
   "cell_type": "code",
   "execution_count": 50,
   "id": "6ab21e27",
   "metadata": {},
   "outputs": [
    {
     "name": "stderr",
     "output_type": "stream",
     "text": [
      "C:\\Users\\cgleeson\\AppData\\Local\\Temp\\ipykernel_15796\\4020510556.py:2: SettingWithCopyWarning: \n",
      "A value is trying to be set on a copy of a slice from a DataFrame\n",
      "\n",
      "See the caveats in the documentation: https://pandas.pydata.org/pandas-docs/stable/user_guide/indexing.html#returning-a-view-versus-a-copy\n",
      "  Table1.rename(columns={'Total deaths':'Total_WW1'}, inplace = True)\n"
     ]
    }
   ],
   "source": [
    "#Simplifying Columns\n",
    "Table1.rename(columns={'Total deaths':'Total_WW1'}, inplace = True)"
   ]
  },
  {
   "cell_type": "code",
   "execution_count": 51,
   "id": "8383f3bb",
   "metadata": {},
   "outputs": [
    {
     "name": "stderr",
     "output_type": "stream",
     "text": [
      "C:\\Users\\cgleeson\\AppData\\Local\\Temp\\ipykernel_15796\\806805216.py:2: SettingWithCopyWarning: \n",
      "A value is trying to be set on a copy of a slice from a DataFrame\n",
      "\n",
      "See the caveats in the documentation: https://pandas.pydata.org/pandas-docs/stable/user_guide/indexing.html#returning-a-view-versus-a-copy\n",
      "  Table1.rename(columns={'Deaths as % of population':'%1', '% of Population':'%2'}, inplace = True)\n"
     ]
    }
   ],
   "source": [
    "#Simplifying Columns\n",
    "Table1.rename(columns={'Deaths as % of population':'%1', '% of Population':'%2'}, inplace = True)"
   ]
  },
  {
   "cell_type": "code",
   "execution_count": 52,
   "id": "b81d1ad7",
   "metadata": {},
   "outputs": [
    {
     "name": "stderr",
     "output_type": "stream",
     "text": [
      "C:\\Users\\cgleeson\\AppData\\Local\\Temp\\ipykernel_15796\\1104769292.py:2: SettingWithCopyWarning: \n",
      "A value is trying to be set on a copy of a slice from a DataFrame\n",
      "\n",
      "See the caveats in the documentation: https://pandas.pydata.org/pandas-docs/stable/user_guide/indexing.html#returning-a-view-versus-a-copy\n",
      "  Table1.rename(columns={'Deaths as\\xa0% of population':'%_WW1'}, inplace = True)\n"
     ]
    }
   ],
   "source": [
    "#Simplifying Columns\n",
    "Table1.rename(columns={'Deaths as\\xa0% of population':'%_WW1'}, inplace = True)"
   ]
  },
  {
   "cell_type": "code",
   "execution_count": 53,
   "id": "da289e0a",
   "metadata": {},
   "outputs": [
    {
     "name": "stderr",
     "output_type": "stream",
     "text": [
      "C:\\Users\\cgleeson\\AppData\\Local\\Temp\\ipykernel_15796\\3877738707.py:1: SettingWithCopyWarning: \n",
      "A value is trying to be set on a copy of a slice from a DataFrame\n",
      "\n",
      "See the caveats in the documentation: https://pandas.pydata.org/pandas-docs/stable/user_guide/indexing.html#returning-a-view-versus-a-copy\n",
      "  Table1.rename(columns={'Totaldeaths':'Total_WW2'}, inplace = True)\n"
     ]
    }
   ],
   "source": [
    "Table1.rename(columns={'Totaldeaths':'Total_WW2'}, inplace = True)"
   ]
  },
  {
   "cell_type": "code",
   "execution_count": 54,
   "id": "de804b14",
   "metadata": {},
   "outputs": [],
   "source": [
    "Final_Table = Table1"
   ]
  },
  {
   "cell_type": "code",
   "execution_count": 55,
   "id": "93324ab6",
   "metadata": {},
   "outputs": [
    {
     "data": {
      "text/html": [
       "<div>\n",
       "<style scoped>\n",
       "    .dataframe tbody tr th:only-of-type {\n",
       "        vertical-align: middle;\n",
       "    }\n",
       "\n",
       "    .dataframe tbody tr th {\n",
       "        vertical-align: top;\n",
       "    }\n",
       "\n",
       "    .dataframe thead th {\n",
       "        text-align: right;\n",
       "    }\n",
       "</style>\n",
       "<table border=\"1\" class=\"dataframe\">\n",
       "  <thead>\n",
       "    <tr style=\"text-align: right;\">\n",
       "      <th></th>\n",
       "      <th>Nation</th>\n",
       "      <th>Total_WW1</th>\n",
       "      <th>%_WW1</th>\n",
       "      <th>Country</th>\n",
       "      <th>Total_WW2</th>\n",
       "      <th>%2</th>\n",
       "    </tr>\n",
       "  </thead>\n",
       "  <tbody>\n",
       "    <tr>\n",
       "      <th>0</th>\n",
       "      <td>United Kingdom</td>\n",
       "      <td>867,829 to 1,011,687</td>\n",
       "      <td>1.9</td>\n",
       "      <td>United Kingdom</td>\n",
       "      <td>450900</td>\n",
       "      <td>0.940</td>\n",
       "    </tr>\n",
       "    <tr>\n",
       "      <th>1</th>\n",
       "      <td>France</td>\n",
       "      <td>1,697,000to 1,737,800</td>\n",
       "      <td>4.3</td>\n",
       "      <td>France</td>\n",
       "      <td>600000</td>\n",
       "      <td>1.440</td>\n",
       "    </tr>\n",
       "    <tr>\n",
       "      <th>2</th>\n",
       "      <td>Italy</td>\n",
       "      <td>1,052,400 to 1,243,400</td>\n",
       "      <td>3.0</td>\n",
       "      <td>Italy</td>\n",
       "      <td>492400</td>\n",
       "      <td>1.135</td>\n",
       "    </tr>\n",
       "    <tr>\n",
       "      <th>3</th>\n",
       "      <td>Japan</td>\n",
       "      <td>300 to 4,661</td>\n",
       "      <td>0.0</td>\n",
       "      <td>Japan</td>\n",
       "      <td>3100000</td>\n",
       "      <td>3.920</td>\n",
       "    </tr>\n",
       "    <tr>\n",
       "      <th>4</th>\n",
       "      <td>Russia</td>\n",
       "      <td>2,840,000 to3,394,369</td>\n",
       "      <td>1.6</td>\n",
       "      <td>Russia</td>\n",
       "      <td>27000000</td>\n",
       "      <td>1.150</td>\n",
       "    </tr>\n",
       "    <tr>\n",
       "      <th>5</th>\n",
       "      <td>United States</td>\n",
       "      <td>117466</td>\n",
       "      <td>0.1</td>\n",
       "      <td>United States</td>\n",
       "      <td>419400</td>\n",
       "      <td>0.320</td>\n",
       "    </tr>\n",
       "    <tr>\n",
       "      <th>6</th>\n",
       "      <td>Germany</td>\n",
       "      <td>2,198,420 to 2,800,720</td>\n",
       "      <td>3.4</td>\n",
       "      <td>Germany</td>\n",
       "      <td>7400000</td>\n",
       "      <td>1.000</td>\n",
       "    </tr>\n",
       "  </tbody>\n",
       "</table>\n",
       "</div>"
      ],
      "text/plain": [
       "           Nation               Total_WW1  %_WW1         Country Total_WW2  \\\n",
       "0  United Kingdom    867,829 to 1,011,687    1.9  United Kingdom    450900   \n",
       "1          France   1,697,000to 1,737,800    4.3          France    600000   \n",
       "2           Italy  1,052,400 to 1,243,400    3.0           Italy    492400   \n",
       "3           Japan            300 to 4,661    0.0           Japan   3100000   \n",
       "4          Russia   2,840,000 to3,394,369    1.6          Russia  27000000   \n",
       "5   United States                  117466    0.1   United States    419400   \n",
       "6         Germany  2,198,420 to 2,800,720    3.4         Germany   7400000   \n",
       "\n",
       "      %2  \n",
       "0  0.940  \n",
       "1  1.440  \n",
       "2  1.135  \n",
       "3  3.920  \n",
       "4  1.150  \n",
       "5  0.320  \n",
       "6  1.000  "
      ]
     },
     "execution_count": 55,
     "metadata": {},
     "output_type": "execute_result"
    }
   ],
   "source": [
    "#Assigning to New Table\n",
    "Final_Table"
   ]
  },
  {
   "cell_type": "code",
   "execution_count": 69,
   "id": "68ba3af7",
   "metadata": {},
   "outputs": [
    {
     "data": {
      "text/html": [
       "<div>\n",
       "<style scoped>\n",
       "    .dataframe tbody tr th:only-of-type {\n",
       "        vertical-align: middle;\n",
       "    }\n",
       "\n",
       "    .dataframe tbody tr th {\n",
       "        vertical-align: top;\n",
       "    }\n",
       "\n",
       "    .dataframe thead th {\n",
       "        text-align: right;\n",
       "    }\n",
       "</style>\n",
       "<table border=\"1\" class=\"dataframe\">\n",
       "  <thead>\n",
       "    <tr style=\"text-align: right;\">\n",
       "      <th></th>\n",
       "      <th>%_WW1</th>\n",
       "      <th>%2</th>\n",
       "    </tr>\n",
       "  </thead>\n",
       "  <tbody>\n",
       "    <tr>\n",
       "      <th>count</th>\n",
       "      <td>7.000000</td>\n",
       "      <td>7.000000</td>\n",
       "    </tr>\n",
       "    <tr>\n",
       "      <th>mean</th>\n",
       "      <td>2.042857</td>\n",
       "      <td>1.415000</td>\n",
       "    </tr>\n",
       "    <tr>\n",
       "      <th>std</th>\n",
       "      <td>1.633868</td>\n",
       "      <td>1.156226</td>\n",
       "    </tr>\n",
       "    <tr>\n",
       "      <th>min</th>\n",
       "      <td>0.000000</td>\n",
       "      <td>0.320000</td>\n",
       "    </tr>\n",
       "    <tr>\n",
       "      <th>25%</th>\n",
       "      <td>0.850000</td>\n",
       "      <td>0.970000</td>\n",
       "    </tr>\n",
       "    <tr>\n",
       "      <th>50%</th>\n",
       "      <td>1.900000</td>\n",
       "      <td>1.135000</td>\n",
       "    </tr>\n",
       "    <tr>\n",
       "      <th>75%</th>\n",
       "      <td>3.200000</td>\n",
       "      <td>1.295000</td>\n",
       "    </tr>\n",
       "    <tr>\n",
       "      <th>max</th>\n",
       "      <td>4.300000</td>\n",
       "      <td>3.920000</td>\n",
       "    </tr>\n",
       "  </tbody>\n",
       "</table>\n",
       "</div>"
      ],
      "text/plain": [
       "          %_WW1        %2\n",
       "count  7.000000  7.000000\n",
       "mean   2.042857  1.415000\n",
       "std    1.633868  1.156226\n",
       "min    0.000000  0.320000\n",
       "25%    0.850000  0.970000\n",
       "50%    1.900000  1.135000\n",
       "75%    3.200000  1.295000\n",
       "max    4.300000  3.920000"
      ]
     },
     "execution_count": 69,
     "metadata": {},
     "output_type": "execute_result"
    }
   ],
   "source": [
    "#Description of table\n",
    "Final_Table.describe()"
   ]
  },
  {
   "cell_type": "code",
   "execution_count": 76,
   "id": "11dda17c",
   "metadata": {},
   "outputs": [
    {
     "name": "stdout",
     "output_type": "stream",
     "text": [
      "867,829 to 1,011,687 867,829 to 1,011,687\n",
      "1,697,000to 1,737,800 1,697,000to 1,737,800\n",
      "1,052,400 to 1,243,400 1,052,400 to 1,243,400\n",
      "300 to 4,661 300 to 4,661\n",
      "2,840,000 to3,394,369 2,840,000 to3,394,369\n",
      "117466 117466\n",
      "2,198,420 to 2,800,720 2,198,420 to 2,800,720\n"
     ]
    }
   ],
   "source": [
    "for ind in Final_Table.index:\n",
    "    print(Final_Table['Total_WW1'][ind], Final_Table['Total_WW1'][ind])"
   ]
  },
  {
   "cell_type": "code",
   "execution_count": 79,
   "id": "cfea4043",
   "metadata": {},
   "outputs": [],
   "source": [
    "col_list = Final_Table.Country.values.tolist()"
   ]
  },
  {
   "cell_type": "code",
   "execution_count": 80,
   "id": "e4ae6367",
   "metadata": {},
   "outputs": [
    {
     "data": {
      "text/plain": [
       "['United Kingdom',\n",
       " 'France',\n",
       " 'Italy',\n",
       " 'Japan',\n",
       " 'Russia',\n",
       " 'United States',\n",
       " 'Germany']"
      ]
     },
     "execution_count": 80,
     "metadata": {},
     "output_type": "execute_result"
    }
   ],
   "source": [
    "col_list"
   ]
  },
  {
   "cell_type": "code",
   "execution_count": 84,
   "id": "b4f55617",
   "metadata": {},
   "outputs": [],
   "source": [
    "index_list = Final_Table.index.tolist()"
   ]
  },
  {
   "cell_type": "code",
   "execution_count": 85,
   "id": "0cf98cd9",
   "metadata": {},
   "outputs": [
    {
     "data": {
      "text/plain": [
       "[0, 1, 2, 3, 4, 5, 6]"
      ]
     },
     "execution_count": 85,
     "metadata": {},
     "output_type": "execute_result"
    }
   ],
   "source": [
    "index_list"
   ]
  },
  {
   "cell_type": "code",
   "execution_count": 86,
   "id": "635a0b82",
   "metadata": {},
   "outputs": [],
   "source": [
    "import matplotlib.pyplot as plt"
   ]
  },
  {
   "cell_type": "code",
   "execution_count": 107,
   "id": "71c70ef1",
   "metadata": {},
   "outputs": [],
   "source": [
    "#Defining the data\n",
    "Data = {'WW1':[1.9, 4.3, 3.0, 0, 1.6, 0.1, 3.4], 'WW2':[0.94, 1.44, 1.13, 3.92, 1.15, 0.32, 1.0]}\n",
    "Country = ['United Kingdom', 'France', 'Italy', 'Japan', 'Russia', 'United States', 'Germany'] \n",
    "\n",
    "dataFrame = pd.DataFrame(data=Data, index=Country)"
   ]
  },
  {
   "cell_type": "code",
   "execution_count": 108,
   "id": "56b8e8b6",
   "metadata": {},
   "outputs": [
    {
     "data": {
      "text/plain": [
       "<AxesSubplot:title={'center':'% of Population Casualties of WW1 vs WW2'}>"
      ]
     },
     "execution_count": 108,
     "metadata": {},
     "output_type": "execute_result"
    },
    {
     "data": {
      "image/png": "[encoded data removed]",
      "text/plain": [
       "<Figure size 432x288 with 1 Axes>"
      ]
     },
     "metadata": {
      "needs_background": "light"
     },
     "output_type": "display_data"
    }
   ],
   "source": [
    "dataFrame.plot.bar(rot=15, title=\"% of Population Casualties of WW1 vs WW2\")"
   ]
  },
  {
   "cell_type": "code",
   "execution_count": 109,
   "id": "3e391238",
   "metadata": {},
   "outputs": [
    {
     "data": {
      "text/html": [
       "<div>\n",
       "<style scoped>\n",
       "    .dataframe tbody tr th:only-of-type {\n",
       "        vertical-align: middle;\n",
       "    }\n",
       "\n",
       "    .dataframe tbody tr th {\n",
       "        vertical-align: top;\n",
       "    }\n",
       "\n",
       "    .dataframe thead th {\n",
       "        text-align: right;\n",
       "    }\n",
       "</style>\n",
       "<table border=\"1\" class=\"dataframe\">\n",
       "  <thead>\n",
       "    <tr style=\"text-align: right;\">\n",
       "      <th></th>\n",
       "      <th>Nation</th>\n",
       "      <th>Total_WW1</th>\n",
       "      <th>%_WW1</th>\n",
       "      <th>Country</th>\n",
       "      <th>Total_WW2</th>\n",
       "      <th>%2</th>\n",
       "    </tr>\n",
       "  </thead>\n",
       "  <tbody>\n",
       "    <tr>\n",
       "      <th>0</th>\n",
       "      <td>United Kingdom</td>\n",
       "      <td>867,829 to 1,011,687</td>\n",
       "      <td>1.9</td>\n",
       "      <td>United Kingdom</td>\n",
       "      <td>450900</td>\n",
       "      <td>0.940</td>\n",
       "    </tr>\n",
       "    <tr>\n",
       "      <th>1</th>\n",
       "      <td>France</td>\n",
       "      <td>1,697,000to 1,737,800</td>\n",
       "      <td>4.3</td>\n",
       "      <td>France</td>\n",
       "      <td>600000</td>\n",
       "      <td>1.440</td>\n",
       "    </tr>\n",
       "    <tr>\n",
       "      <th>2</th>\n",
       "      <td>Italy</td>\n",
       "      <td>1,052,400 to 1,243,400</td>\n",
       "      <td>3.0</td>\n",
       "      <td>Italy</td>\n",
       "      <td>492400</td>\n",
       "      <td>1.135</td>\n",
       "    </tr>\n",
       "    <tr>\n",
       "      <th>3</th>\n",
       "      <td>Japan</td>\n",
       "      <td>300 to 4,661</td>\n",
       "      <td>0.0</td>\n",
       "      <td>Japan</td>\n",
       "      <td>3100000</td>\n",
       "      <td>3.920</td>\n",
       "    </tr>\n",
       "    <tr>\n",
       "      <th>4</th>\n",
       "      <td>Russia</td>\n",
       "      <td>2,840,000 to3,394,369</td>\n",
       "      <td>1.6</td>\n",
       "      <td>Russia</td>\n",
       "      <td>27000000</td>\n",
       "      <td>1.150</td>\n",
       "    </tr>\n",
       "    <tr>\n",
       "      <th>5</th>\n",
       "      <td>United States</td>\n",
       "      <td>117466</td>\n",
       "      <td>0.1</td>\n",
       "      <td>United States</td>\n",
       "      <td>419400</td>\n",
       "      <td>0.320</td>\n",
       "    </tr>\n",
       "    <tr>\n",
       "      <th>6</th>\n",
       "      <td>Germany</td>\n",
       "      <td>2,198,420 to 2,800,720</td>\n",
       "      <td>3.4</td>\n",
       "      <td>Germany</td>\n",
       "      <td>7400000</td>\n",
       "      <td>1.000</td>\n",
       "    </tr>\n",
       "  </tbody>\n",
       "</table>\n",
       "</div>"
      ],
      "text/plain": [
       "           Nation               Total_WW1  %_WW1         Country Total_WW2  \\\n",
       "0  United Kingdom    867,829 to 1,011,687    1.9  United Kingdom    450900   \n",
       "1          France   1,697,000to 1,737,800    4.3          France    600000   \n",
       "2           Italy  1,052,400 to 1,243,400    3.0           Italy    492400   \n",
       "3           Japan            300 to 4,661    0.0           Japan   3100000   \n",
       "4          Russia   2,840,000 to3,394,369    1.6          Russia  27000000   \n",
       "5   United States                  117466    0.1   United States    419400   \n",
       "6         Germany  2,198,420 to 2,800,720    3.4         Germany   7400000   \n",
       "\n",
       "      %2  \n",
       "0  0.940  \n",
       "1  1.440  \n",
       "2  1.135  \n",
       "3  3.920  \n",
       "4  1.150  \n",
       "5  0.320  \n",
       "6  1.000  "
      ]
     },
     "execution_count": 109,
     "metadata": {},
     "output_type": "execute_result"
    }
   ],
   "source": [
    "Final_Table"
   ]
  },
  {
   "cell_type": "code",
   "execution_count": 111,
   "id": "8b91d4ea",
   "metadata": {},
   "outputs": [
    {
     "data": {
      "text/plain": [
       "<AxesSubplot:xlabel='Country'>"
      ]
     },
     "execution_count": 111,
     "metadata": {},
     "output_type": "execute_result"
    },
    {
     "data": {
      "image/png": "[encoded data removed]",
      "text/plain": [
       "<Figure size 432x288 with 1 Axes>"
      ]
     },
     "metadata": {
      "needs_background": "light"
     },
     "output_type": "display_data"
    }
   ],
   "source": [
    "Final_Table[['Country', '%_WW1', '%2']].plot(x='Country', kind='bar')"
   ]
  },
  {
   "cell_type": "code",
   "execution_count": 112,
   "id": "b46c4448",
   "metadata": {
    "scrolled": true
   },
   "outputs": [
    {
     "data": {
      "text/plain": [
       "<AxesSubplot:xlabel='Country'>"
      ]
     },
     "execution_count": 112,
     "metadata": {},
     "output_type": "execute_result"
    },
    {
     "data": {
      "image/png": "[encoded data removed]",
      "text/plain": [
       "<Figure size 432x288 with 1 Axes>"
      ]
     },
     "metadata": {
      "needs_background": "light"
     },
     "output_type": "display_data"
    }
   ],
   "source": [
    "Final_Table[['Country', '%_WW1', '%2']].plot(x='Country', kind='bar', stacked=True)"
   ]
  },
  {
   "cell_type": "code",
   "execution_count": 113,
   "id": "e8a572fc",
   "metadata": {},
   "outputs": [],
   "source": [
    "explode = (0, 0.1, 0, 0)"
   ]
  },
  {
   "cell_type": "code",
   "execution_count": 114,
   "id": "6d95eea4",
   "metadata": {},
   "outputs": [
    {
     "ename": "NameError",
     "evalue": "name 'ax1' is not defined",
     "output_type": "error",
     "traceback": [
      "\u001b[1;31m---------------------------------------------------------------------------\u001b[0m",
      "\u001b[1;31mNameError\u001b[0m                                 Traceback (most recent call last)",
      "Input \u001b[1;32mIn [114]\u001b[0m, in \u001b[0;36m<cell line: 1>\u001b[1;34m()\u001b[0m\n\u001b[1;32m----> 1\u001b[0m \u001b[43max1\u001b[49m\u001b[38;5;241m.\u001b[39mpie(Country, explode\u001b[38;5;241m=\u001b[39mexplode, labels\u001b[38;5;241m=\u001b[39m\u001b[38;5;124m'\u001b[39m\u001b[38;5;124mCountry\u001b[39m\u001b[38;5;124m'\u001b[39m, autopct\u001b[38;5;241m=\u001b[39m\u001b[38;5;124m'\u001b[39m\u001b[38;5;132;01m%1.1f\u001b[39;00m\u001b[38;5;132;01m%%\u001b[39;00m\u001b[38;5;124m'\u001b[39m,\n\u001b[0;32m      2\u001b[0m         shadow\u001b[38;5;241m=\u001b[39m\u001b[38;5;28;01mTrue\u001b[39;00m, startangle\u001b[38;5;241m=\u001b[39m\u001b[38;5;241m90\u001b[39m)\n",
      "\u001b[1;31mNameError\u001b[0m: name 'ax1' is not defined"
     ]
    }
   ],
   "source": [
    "ax1.pie(Country, explode=explode, labels='Country', autopct='%1.1f%%',\n",
    "        shadow=True, startangle=90)"
   ]
  },
  {
   "cell_type": "code",
   "execution_count": null,
   "id": "107df4a7",
   "metadata": {},
   "outputs": [],
   "source": []
  }
 ],
 "metadata": {
  "kernelspec": {
   "display_name": "Python 3 (ipykernel)",
   "language": "python",
   "name": "python3"
  },
  "language_info": {
   "codemirror_mode": {
    "name": "ipython",
    "version": 3
   },
   "file_extension": ".py",
   "mimetype": "text/x-python",
   "name": "python",
   "nbconvert_exporter": "python",
   "pygments_lexer": "ipython3",
   "version": "3.9.12"
  }
 },
 "nbformat": 4,
 "nbformat_minor": 5
}
