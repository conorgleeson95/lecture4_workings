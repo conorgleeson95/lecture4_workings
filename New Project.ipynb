{
 "cells": [
  {
   "cell_type": "code",
   "execution_count": 4,
   "id": "111a65b4",
   "metadata": {},
   "outputs": [],
   "source": [
    "import pandas as pd\n",
    "df = pd.read_csv('ww2_dataset2.csv')"
   ]
  },
  {
   "cell_type": "code",
   "execution_count": 5,
   "id": "2ff79e25",
   "metadata": {},
   "outputs": [
    {
     "data": {
      "text/html": [
       "<div>\n",
       "<style scoped>\n",
       "    .dataframe tbody tr th:only-of-type {\n",
       "        vertical-align: middle;\n",
       "    }\n",
       "\n",
       "    .dataframe tbody tr th {\n",
       "        vertical-align: top;\n",
       "    }\n",
       "\n",
       "    .dataframe thead th {\n",
       "        text-align: right;\n",
       "    }\n",
       "</style>\n",
       "<table border=\"1\" class=\"dataframe\">\n",
       "  <thead>\n",
       "    <tr style=\"text-align: right;\">\n",
       "      <th></th>\n",
       "      <th>Country</th>\n",
       "      <th>Total pop 19391939</th>\n",
       "      <th>Militarydeaths</th>\n",
       "      <th>Civilian deaths</th>\n",
       "      <th>Totaldeaths</th>\n",
       "      <th>% of Population</th>\n",
       "      <th>Militarywounded</th>\n",
       "    </tr>\n",
       "  </thead>\n",
       "  <tbody>\n",
       "    <tr>\n",
       "      <th>0</th>\n",
       "      <td>Australia</td>\n",
       "      <td>6,968,000</td>\n",
       "      <td>39,700</td>\n",
       "      <td>700</td>\n",
       "      <td>40400</td>\n",
       "      <td>0.58</td>\n",
       "      <td>39,803</td>\n",
       "    </tr>\n",
       "    <tr>\n",
       "      <th>1</th>\n",
       "      <td>Belgium</td>\n",
       "      <td>8,387,000</td>\n",
       "      <td>12,000</td>\n",
       "      <td>76,000</td>\n",
       "      <td>88000</td>\n",
       "      <td>1.05</td>\n",
       "      <td>55,513</td>\n",
       "    </tr>\n",
       "    <tr>\n",
       "      <th>2</th>\n",
       "      <td>Bulgaria</td>\n",
       "      <td>6,458,000</td>\n",
       "      <td>18,500</td>\n",
       "      <td>3,000</td>\n",
       "      <td>21500</td>\n",
       "      <td>0.33</td>\n",
       "      <td>21,878</td>\n",
       "    </tr>\n",
       "    <tr>\n",
       "      <th>3</th>\n",
       "      <td>Canada</td>\n",
       "      <td>11,267,000</td>\n",
       "      <td>42,000</td>\n",
       "      <td>1,600</td>\n",
       "      <td>43600</td>\n",
       "      <td>0.38</td>\n",
       "      <td>53,174</td>\n",
       "    </tr>\n",
       "    <tr>\n",
       "      <th>4</th>\n",
       "      <td>France</td>\n",
       "      <td>41,680,000</td>\n",
       "      <td>210,000</td>\n",
       "      <td>390,000</td>\n",
       "      <td>600000</td>\n",
       "      <td>1.44</td>\n",
       "      <td>390,000</td>\n",
       "    </tr>\n",
       "  </tbody>\n",
       "</table>\n",
       "</div>"
      ],
      "text/plain": [
       "     Country Total pop 19391939 Militarydeaths Civilian deaths Totaldeaths  \\\n",
       "0  Australia          6,968,000         39,700             700       40400   \n",
       "1    Belgium          8,387,000         12,000          76,000       88000   \n",
       "2   Bulgaria          6,458,000         18,500           3,000       21500   \n",
       "3     Canada         11,267,000         42,000           1,600       43600   \n",
       "4     France         41,680,000        210,000         390,000      600000   \n",
       "\n",
       "   % of Population Militarywounded  \n",
       "0             0.58          39,803  \n",
       "1             1.05          55,513  \n",
       "2             0.33          21,878  \n",
       "3             0.38          53,174  \n",
       "4             1.44         390,000  "
      ]
     },
     "execution_count": 5,
     "metadata": {},
     "output_type": "execute_result"
    }
   ],
   "source": [
    "df.head()"
   ]
  },
  {
   "cell_type": "code",
   "execution_count": 6,
   "id": "2dc3bcc0",
   "metadata": {},
   "outputs": [],
   "source": [
    "WW2 = df"
   ]
  },
  {
   "cell_type": "code",
   "execution_count": 7,
   "id": "f8452e1e",
   "metadata": {},
   "outputs": [
    {
     "name": "stdout",
     "output_type": "stream",
     "text": [
      "           Country Total pop 19391939 Militarydeaths Civilian deaths  \\\n",
      "0        Australia          6,968,000         39,700             700   \n",
      "1          Belgium          8,387,000         12,000          76,000   \n",
      "2         Bulgaria          6,458,000         18,500           3,000   \n",
      "3           Canada         11,267,000         42,000           1,600   \n",
      "4           France         41,680,000        210,000         390,000   \n",
      "5          Germany         69,300,000      5,318,000       3,000,000   \n",
      "6           Greece          7,222,000         35,100         171,800   \n",
      "7          Hungary          9,129,000        200,000         664,000   \n",
      "8            India        377,800,000         87,000             NaN   \n",
      "9            Italy         44,394,000        341,000         153,200   \n",
      "10           Japan         71,380,000      2,300,000         800,000   \n",
      "11    Newfoundland            320,000          1,100             100   \n",
      "12     New Zealand          1,629,000         11,700             NaN   \n",
      "13         Romania         15,970,000        300,000         200,000   \n",
      "14    South Africa         10,160,000         11,900             NaN   \n",
      "15    Soviet Union        188,793,000     11,400,000      10,000,000   \n",
      "16          Sweden          6,341,000            100           2,000   \n",
      "17     Switzerland          4,210,000            NaN             100   \n",
      "18        Thailand         15,023,000          5,600           2,000   \n",
      "19          Turkey         17,370,000            200             NaN   \n",
      "20  United Kingdom         47,760,000        383,700          67,200   \n",
      "21   United States        131,028,000        407,300          12,100   \n",
      "\n",
      "   Totaldeaths  % of Population Militarywounded  \n",
      "0        40400            0.580          39,803  \n",
      "1        88000            1.050          55,513  \n",
      "2        21500            0.330          21,878  \n",
      "3        43600            0.380          53,174  \n",
      "4       600000            1.440         390,000  \n",
      "5    7,400,000            1.000       7,300,000  \n",
      "6      507,000            9.095          47,290  \n",
      "7      864,000            7.270          89,313  \n",
      "8    3,087,000            0.580          64,354  \n",
      "9      492,400            1.135         320,000  \n",
      "10   3,100,000            3.920         326,000  \n",
      "11        1200            0.300             NaN  \n",
      "12       11700            0.720          19,314  \n",
      "13     500,000            3.130         332,769  \n",
      "14       11900            0.120          14,363  \n",
      "15  27,000,000            1.150             NaN  \n",
      "16        2100            0.030             NaN  \n",
      "17         100            0.000             NaN  \n",
      "18        7600            0.050             NaN  \n",
      "19         200            0.000             NaN  \n",
      "20      450900            0.940         376,239  \n",
      "21      419400            0.320         671,801  \n"
     ]
    }
   ],
   "source": [
    "print(WW2)"
   ]
  },
  {
   "cell_type": "code",
   "execution_count": 8,
   "id": "deb50f5a",
   "metadata": {},
   "outputs": [
    {
     "data": {
      "text/plain": [
       "0          Australia\n",
       "1            Belgium\n",
       "2           Bulgaria\n",
       "3             Canada\n",
       "4             France\n",
       "5            Germany\n",
       "6             Greece\n",
       "7            Hungary\n",
       "8              India\n",
       "9              Italy\n",
       "10             Japan\n",
       "11      Newfoundland\n",
       "12       New Zealand\n",
       "13           Romania\n",
       "14      South Africa\n",
       "15      Soviet Union\n",
       "16            Sweden\n",
       "17       Switzerland\n",
       "18          Thailand\n",
       "19            Turkey\n",
       "20    United Kingdom\n",
       "21     United States\n",
       "Name: Country, dtype: object"
      ]
     },
     "execution_count": 8,
     "metadata": {},
     "output_type": "execute_result"
    }
   ],
   "source": [
    "df['Country']"
   ]
  },
  {
   "cell_type": "code",
   "execution_count": null,
   "id": "7eda9b98",
   "metadata": {},
   "outputs": [],
   "source": [
    "WW2.drop(['C', ''], axis=1)"
   ]
  }
 ],
 "metadata": {
  "kernelspec": {
   "display_name": "Python 3 (ipykernel)",
   "language": "python",
   "name": "python3"
  },
  "language_info": {
   "codemirror_mode": {
    "name": "ipython",
    "version": 3
   },
   "file_extension": ".py",
   "mimetype": "text/x-python",
   "name": "python",
   "nbconvert_exporter": "python",
   "pygments_lexer": "ipython3",
   "version": "3.9.12"
  }
 },
 "nbformat": 4,
 "nbformat_minor": 5
}
